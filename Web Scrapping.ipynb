{
 "cells": [
  {
   "cell_type": "markdown",
   "id": "ec9bdebe",
   "metadata": {},
   "source": [
    "## Data Collection\n",
    "\n",
    "+ The main purpose of this notebook is for data-collection\n",
    "   + imsdb.com and imdb.com\n",
    "\n",
    "##### This notebook accomplishes two primary tasks:\n",
    "\n",
    "+ using the request and beautiful soup library, we collect data from the above mentioned websites\n",
    "+ save the collected data for cleaning, analysis and modelling\n",
    "---\n",
    "\n",
    "+ import necessary libraries\n",
    "    \n",
    "    + beautiful soup\n",
    "    + request.\n",
    "    + pandas \n",
    "    + csv"
   ]
  },
  {
   "cell_type": "code",
   "execution_count": null,
   "id": "1463126e",
   "metadata": {},
   "outputs": [],
   "source": [
    "#IMDB and IMSDB scraping script\n",
    "import requests\n",
    "from bs4 import BeautifulSoup\n",
    "import pandas as pd\n",
    "import numpy as np\n",
    "import pandas as pd\n",
    "import csv\n",
    "from csv import writer"
   ]
  },
  {
   "cell_type": "code",
   "execution_count": null,
   "id": "a0d942ad",
   "metadata": {},
   "outputs": [],
   "source": [
    "movie = []\n",
    "\n",
    "def scrape_imsdb(url):\n",
    "    '''\n",
    "    This returns the title of all the movies on the website. where it updates the website information.\n",
    "    and returns just the title of the movies, this website had a pattern, made it easier to scrape.\n",
    "    '''\n",
    "    html = requests.get(url).text\n",
    "    soup = BeautifulSoup(html, \"lxml\")\n",
    "\n",
    "    final_link = soup.find_all('a', href = True)\n",
    "    url = []\n",
    "    for k in final_link:\n",
    "        if 'Movie' in k['href']:    \n",
    "            url.append(k['href'])\n",
    "\n",
    "    movie_url = []\n",
    "    for i in url:\n",
    "        b = i.replace(' ', '%20')\n",
    "        v = 'https://imsdb.com'+ b\n",
    "        movie_url.append(v)\n",
    "        #print(v)\n",
    "    for x in movie_url:\n",
    "        movie_html = requests.get(x).text\n",
    "        movie_soup = BeautifulSoup(movie_html, \"lxml\")\n",
    "        word = movie_soup.find_all('table', class_ = 'script-details')\n",
    "        for k in word:\n",
    "            movie.append(k.text.split('\\n\\n')[1].replace(' Script', ''))        "
   ]
  },
  {
   "cell_type": "code",
   "execution_count": null,
   "id": "c751c3f7",
   "metadata": {},
   "outputs": [],
   "source": [
    "scrape_imsdb('https://imsdb.com/all-scripts.html') "
   ]
  },
  {
   "cell_type": "code",
   "execution_count": null,
   "id": "6790f882",
   "metadata": {},
   "outputs": [],
   "source": [
    "movie"
   ]
  },
  {
   "cell_type": "code",
   "execution_count": null,
   "id": "d226d5fe",
   "metadata": {},
   "outputs": [],
   "source": [
    "'''it returns the age rating of the movie from the imdb website based on the titles'''\n",
    "\n",
    "def getRating(title):#imdb website\n",
    "    title = title.replace(' ', '%20')\n",
    "    root = \"https://imdb.com\"\n",
    "    url = f\"{root}/find?q={title}&s=tt&ttype=ft\" #concate data to fit to websites pattern\n",
    "    html = requests.get(url).text    \n",
    "    soup = BeautifulSoup(html, \"lxml\")\n",
    "    a_tag = soup.select('.result_text a')[0]['href']\n",
    "    \n",
    "    url = f\"{root}{a_tag}\"\n",
    "    html = requests.get(url).text\n",
    "    soup = BeautifulSoup(html, \"lxml\")\n",
    "    try:\n",
    "        age_rating = soup.select('.sc-8c396aa2-2.itZqyK')[1].text\n",
    "        return age_rating\n",
    "    except:\n",
    "        return ' '"
   ]
  },
  {
   "cell_type": "code",
   "execution_count": null,
   "id": "b140dc0e",
   "metadata": {},
   "outputs": [],
   "source": [
    "getRating('American Shaolin: King of Kickboxers II')"
   ]
  },
  {
   "cell_type": "code",
   "execution_count": null,
   "id": "bdf85002",
   "metadata": {},
   "outputs": [],
   "source": [
    "def getGenre(title):#imsdb website\n",
    "    title = title.replace(' ', '%20')\n",
    "    root = \"https://imsdb.com/Movie%20Scripts/\"\n",
    "    url = f\"{root}{title}%20Script.html\" #concate data to fit to websites pattern\n",
    "    html = requests.get(url).text    \n",
    "    soup = BeautifulSoup(html, \"lxml\")\n",
    "    word = soup.find_all('table', class_ = 'script-details')\n",
    "    for k in word:\n",
    "        genre_value = []\n",
    "        for y in word[0].text.split('\\n'):\n",
    "            if 'Genre' in y:\n",
    "                for g in y.split('\\xa0'):\n",
    "                    if g != 'Genres' and g != '':\n",
    "                        genre_value.append(g)\n",
    "    return genre_value                "
   ]
  },
  {
   "cell_type": "code",
   "execution_count": null,
   "id": "621540bc",
   "metadata": {},
   "outputs": [],
   "source": [
    "getGenre('American Shaolin: King of Kickboxers II')"
   ]
  },
  {
   "cell_type": "code",
   "execution_count": null,
   "id": "54aec838",
   "metadata": {},
   "outputs": [],
   "source": [
    "def getScript(title):#imsdb website\n",
    "    title = title.replace(' ', '-')\n",
    "    root = 'https://imsdb.com/scripts/'\n",
    "    url = f\"{root}{title}.html\" #concate data to fit to websites pattern\n",
    "    try:\n",
    "        html = requests.get(url).text    \n",
    "        soup = BeautifulSoup(html, \"lxml\")\n",
    "        script = soup.find_all('pre')\n",
    "        for i in script:\n",
    "            return i.text.split('\\r\\n\\r\\n')\n",
    "    except:\n",
    "        return ' '"
   ]
  },
  {
   "cell_type": "code",
   "execution_count": null,
   "id": "bd37fa01",
   "metadata": {},
   "outputs": [],
   "source": [
    "getScript('How to Train Your Dragon')"
   ]
  },
  {
   "cell_type": "markdown",
   "id": "d56bab7d",
   "metadata": {},
   "source": [
    "# Saving collected data to csv in a specified format using dictionaries and Pandas"
   ]
  },
  {
   "cell_type": "code",
   "execution_count": null,
   "id": "cb5254b0",
   "metadata": {},
   "outputs": [],
   "source": [
    "data_value = []\n",
    "for i in movie:\n",
    "    data = {'title' : i, 'age_rating' : getRating(f\"'{i}'\"), 'Movie_Genre' : getGenre(i), 'Movie_Script': getScript(i)}\n",
    "    data_value.append(data)"
   ]
  },
  {
   "cell_type": "code",
   "execution_count": null,
   "id": "21f6f1b0",
   "metadata": {},
   "outputs": [],
   "source": [
    "data_value[1]"
   ]
  },
  {
   "cell_type": "code",
   "execution_count": null,
   "id": "67d74ef3",
   "metadata": {},
   "outputs": [],
   "source": [
    "df = pd.DataFrame(data_value)"
   ]
  },
  {
   "cell_type": "code",
   "execution_count": null,
   "id": "d566ec2a",
   "metadata": {},
   "outputs": [],
   "source": [
    "df.to_csv(\"movie_dataBase.csv\", index = False)"
   ]
  },
  {
   "cell_type": "markdown",
   "id": "59b6e27b",
   "metadata": {},
   "source": [
    "Saved data"
   ]
  },
  {
   "cell_type": "code",
   "execution_count": null,
   "id": "ae005e44",
   "metadata": {},
   "outputs": [],
   "source": [
    "value = pd.read_csv('movie_dataBase.csv')"
   ]
  },
  {
   "cell_type": "code",
   "execution_count": null,
   "id": "cbe11e88",
   "metadata": {},
   "outputs": [],
   "source": [
    "value"
   ]
  }
 ],
 "metadata": {
  "kernelspec": {
   "display_name": "Python 3 (ipykernel)",
   "language": "python",
   "name": "python3"
  },
  "language_info": {
   "codemirror_mode": {
    "name": "ipython",
    "version": 3
   },
   "file_extension": ".py",
   "mimetype": "text/x-python",
   "name": "python",
   "nbconvert_exporter": "python",
   "pygments_lexer": "ipython3",
   "version": "3.9.7"
  }
 },
 "nbformat": 4,
 "nbformat_minor": 5
}
