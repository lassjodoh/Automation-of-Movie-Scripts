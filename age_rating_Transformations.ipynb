{
 "cells": [
  {
   "cell_type": "code",
   "execution_count": 1,
   "id": "c08bc54d",
   "metadata": {},
   "outputs": [],
   "source": [
    "import pandas as pd\n",
    "from termcolor import cprint\n",
    "import matplotlib.pyplot as plt\n",
    "import seaborn as sns\n",
    "import numpy as np\n",
    "import seaborn as sns\n",
    "import gensim\n",
    "from gensim.utils import simple_preprocess\n",
    "import spacy\n",
    "import sklearn.metrics \n",
    "from sklearn.model_selection import train_test_split\n",
    "from sklearn.metrics import classification_report , confusion_matrix ,accuracy_score\n",
    "from sklearn.feature_extraction.text import CountVectorizer, TfidfVectorizer\n",
    "from sklearn.linear_model import LogisticRegression\n",
    "from sklearn.ensemble import RandomForestClassifier\n",
    "from sklearn.naive_bayes import MultinomialNB\n",
    "from sklearn.svm import SVC\n",
    "from xgboost import XGBClassifier\n",
    "import matplotlib.pyplot as plt\n",
    "from sklearn.metrics import accuracy_score\n",
    "from sklearn.neighbors import KNeighborsClassifier\n",
    "from sklearn.model_selection import cross_val_score\n",
    "from sklearn.model_selection import RepeatedStratifiedKFold\n",
    "from sklearn.metrics import confusion_matrix\n",
    "from sklearn.utils import resample"
   ]
  },
  {
   "cell_type": "code",
   "execution_count": 2,
   "id": "dfc48801",
   "metadata": {},
   "outputs": [
    {
     "name": "stderr",
     "output_type": "stream",
     "text": [
      "[nltk_data] Downloading package stopwords to\n",
      "[nltk_data]     C:\\Users\\ojoho\\AppData\\Roaming\\nltk_data...\n",
      "[nltk_data]   Package stopwords is already up-to-date!\n"
     ]
    }
   ],
   "source": [
    "from sklearn.model_selection import StratifiedKFold\n",
    "from sklearn.metrics import f1_score, roc_auc_score, confusion_matrix\n",
    "from numpy import mean\n",
    "from numpy import std\n",
    "import nltk\n",
    "from nltk.corpus import stopwords\n",
    "nltk.download('stopwords')\n",
    "from stop_words import get_stop_words"
   ]
  },
  {
   "cell_type": "code",
   "execution_count": 3,
   "id": "c8bcd8d5",
   "metadata": {},
   "outputs": [
    {
     "name": "stderr",
     "output_type": "stream",
     "text": [
      "[nltk_data] Downloading package stopwords to\n",
      "[nltk_data]     C:\\Users\\ojoho\\AppData\\Roaming\\nltk_data...\n",
      "[nltk_data]   Package stopwords is already up-to-date!\n",
      "[nltk_data] Downloading package punkt to\n",
      "[nltk_data]     C:\\Users\\ojoho\\AppData\\Roaming\\nltk_data...\n",
      "[nltk_data]   Package punkt is already up-to-date!\n"
     ]
    },
    {
     "data": {
      "text/plain": [
       "True"
      ]
     },
     "execution_count": 3,
     "metadata": {},
     "output_type": "execute_result"
    }
   ],
   "source": [
    "import re\n",
    "import nltk\n",
    "from nltk.corpus import stopwords\n",
    "nltk.download('stopwords')\n",
    "from nltk.tokenize import word_tokenize\n",
    "nltk.download('punkt')"
   ]
  },
  {
   "cell_type": "code",
   "execution_count": 4,
   "id": "6399cda5",
   "metadata": {},
   "outputs": [],
   "source": [
    "df = pd.read_csv('cleaned_dataBase.csv')"
   ]
  },
  {
   "cell_type": "code",
   "execution_count": 5,
   "id": "2175ca7a",
   "metadata": {},
   "outputs": [
    {
     "data": {
      "text/html": [
       "<div>\n",
       "<style scoped>\n",
       "    .dataframe tbody tr th:only-of-type {\n",
       "        vertical-align: middle;\n",
       "    }\n",
       "\n",
       "    .dataframe tbody tr th {\n",
       "        vertical-align: top;\n",
       "    }\n",
       "\n",
       "    .dataframe thead th {\n",
       "        text-align: right;\n",
       "    }\n",
       "</style>\n",
       "<table border=\"1\" class=\"dataframe\">\n",
       "  <thead>\n",
       "    <tr style=\"text-align: right;\">\n",
       "      <th></th>\n",
       "      <th>title</th>\n",
       "      <th>age_rating</th>\n",
       "      <th>Movie_Genre</th>\n",
       "      <th>Movie_Script</th>\n",
       "      <th>final_text</th>\n",
       "      <th>final_text2</th>\n",
       "    </tr>\n",
       "  </thead>\n",
       "  <tbody>\n",
       "    <tr>\n",
       "      <th>0</th>\n",
       "      <td>Reservoir Dogs</td>\n",
       "      <td>18</td>\n",
       "      <td>Action,Crime,Thriller</td>\n",
       "      <td>Quentin Tara...</td>\n",
       "      <td>Quentin Tara...</td>\n",
       "      <td>quentin tarantino october movie dedicated foll...</td>\n",
       "    </tr>\n",
       "    <tr>\n",
       "      <th>1</th>\n",
       "      <td>How to Train Your Dragon</td>\n",
       "      <td>PG</td>\n",
       "      <td>Animation,Adventure,Comedy</td>\n",
       "      <td>HOW TO TRAIN YO...</td>\n",
       "      <td>HOW TRAIN YOUR ...</td>\n",
       "      <td>train dragon written dean deblois chris sander...</td>\n",
       "    </tr>\n",
       "    <tr>\n",
       "      <th>2</th>\n",
       "      <td>Scream</td>\n",
       "      <td>18</td>\n",
       "      <td>Horror,Mystery,Thriller</td>\n",
       "      <td>...</td>\n",
       "      <td>...</td>\n",
       "      <td>scream scary movie kevin williamson rewrite ju...</td>\n",
       "    </tr>\n",
       "    <tr>\n",
       "      <th>3</th>\n",
       "      <td>Groundhog Day</td>\n",
       "      <td>PG</td>\n",
       "      <td>Comedy,Fantasy,Romance</td>\n",
       "      <td>GROUNDH...</td>\n",
       "      <td>GROUNDH...</td>\n",
       "      <td>groundhog written danny rubin second revision ...</td>\n",
       "    </tr>\n",
       "    <tr>\n",
       "      <th>4</th>\n",
       "      <td>Black Panther</td>\n",
       "      <td>12</td>\n",
       "      <td>Action,Adventure,Sci-Fi</td>\n",
       "      <td>BLACK PANTHER  ...</td>\n",
       "      <td>BLACK PANTHER  ...</td>\n",
       "      <td>black panther written ryan coogler joe robert ...</td>\n",
       "    </tr>\n",
       "    <tr>\n",
       "      <th>...</th>\n",
       "      <td>...</td>\n",
       "      <td>...</td>\n",
       "      <td>...</td>\n",
       "      <td>...</td>\n",
       "      <td>...</td>\n",
       "      <td>...</td>\n",
       "    </tr>\n",
       "    <tr>\n",
       "      <th>1041</th>\n",
       "      <td>You Can Count On Me</td>\n",
       "      <td>15</td>\n",
       "      <td>Drama</td>\n",
       "      <td>\"YOU CAN COU...</td>\n",
       "      <td>YOU CAN COUN...</td>\n",
       "      <td>count screenplay kenneth lonergan shooting dra...</td>\n",
       "    </tr>\n",
       "    <tr>\n",
       "      <th>1042</th>\n",
       "      <td>You've Got Mail</td>\n",
       "      <td>PG</td>\n",
       "      <td>Comedy,Romance</td>\n",
       "      <td>You've Got Mail    \\t\\t\\tYou've Got Mail  \\t...</td>\n",
       "      <td>You have Got Mail    \\t\\t\\tYou have Got Mail...</td>\n",
       "      <td>got mail got mail nora ephron delia ephron bas...</td>\n",
       "    </tr>\n",
       "    <tr>\n",
       "      <th>1043</th>\n",
       "      <td>Youth in Revolt</td>\n",
       "      <td>15</td>\n",
       "      <td>Comedy,Drama,Romance</td>\n",
       "      <td>...</td>\n",
       "      <td>...</td>\n",
       "      <td>youth revolt written gustin nash july black co...</td>\n",
       "    </tr>\n",
       "    <tr>\n",
       "      <th>1044</th>\n",
       "      <td>Zero Dark Thirty</td>\n",
       "      <td>15</td>\n",
       "      <td>Drama,Thriller</td>\n",
       "      <td>ZERO DARK...</td>\n",
       "      <td>ZERO DARK...</td>\n",
       "      <td>zero dark thirty written mark boal october voi...</td>\n",
       "    </tr>\n",
       "    <tr>\n",
       "      <th>1045</th>\n",
       "      <td>Zootopia</td>\n",
       "      <td>PG</td>\n",
       "      <td>Animation,Adventure,Comedy</td>\n",
       "      <td>ZOOTOPIA      ...</td>\n",
       "      <td>...</td>\n",
       "      <td>written jared bush phil johnston story byron h...</td>\n",
       "    </tr>\n",
       "  </tbody>\n",
       "</table>\n",
       "<p>1046 rows × 6 columns</p>\n",
       "</div>"
      ],
      "text/plain": [
       "                         title age_rating                 Movie_Genre  \\\n",
       "0               Reservoir Dogs         18       Action,Crime,Thriller   \n",
       "1     How to Train Your Dragon         PG  Animation,Adventure,Comedy   \n",
       "2                       Scream         18     Horror,Mystery,Thriller   \n",
       "3                Groundhog Day         PG      Comedy,Fantasy,Romance   \n",
       "4                Black Panther         12     Action,Adventure,Sci-Fi   \n",
       "...                        ...        ...                         ...   \n",
       "1041       You Can Count On Me         15                       Drama   \n",
       "1042           You've Got Mail         PG              Comedy,Romance   \n",
       "1043           Youth in Revolt         15        Comedy,Drama,Romance   \n",
       "1044          Zero Dark Thirty         15              Drama,Thriller   \n",
       "1045                  Zootopia         PG  Animation,Adventure,Comedy   \n",
       "\n",
       "                                           Movie_Script  \\\n",
       "0                                       Quentin Tara...   \n",
       "1                                    HOW TO TRAIN YO...   \n",
       "2                                                   ...   \n",
       "3                                            GROUNDH...   \n",
       "4                                    BLACK PANTHER  ...   \n",
       "...                                                 ...   \n",
       "1041                                    \"YOU CAN COU...   \n",
       "1042    You've Got Mail    \\t\\t\\tYou've Got Mail  \\t...   \n",
       "1043                                                ...   \n",
       "1044                                       ZERO DARK...   \n",
       "1045                                  ZOOTOPIA      ...   \n",
       "\n",
       "                                             final_text  \\\n",
       "0                                       Quentin Tara...   \n",
       "1                                    HOW TRAIN YOUR ...   \n",
       "2                                                   ...   \n",
       "3                                            GROUNDH...   \n",
       "4                                    BLACK PANTHER  ...   \n",
       "...                                                 ...   \n",
       "1041                                    YOU CAN COUN...   \n",
       "1042    You have Got Mail    \\t\\t\\tYou have Got Mail...   \n",
       "1043                                                ...   \n",
       "1044                                       ZERO DARK...   \n",
       "1045                                                ...   \n",
       "\n",
       "                                            final_text2  \n",
       "0     quentin tarantino october movie dedicated foll...  \n",
       "1     train dragon written dean deblois chris sander...  \n",
       "2     scream scary movie kevin williamson rewrite ju...  \n",
       "3     groundhog written danny rubin second revision ...  \n",
       "4     black panther written ryan coogler joe robert ...  \n",
       "...                                                 ...  \n",
       "1041  count screenplay kenneth lonergan shooting dra...  \n",
       "1042  got mail got mail nora ephron delia ephron bas...  \n",
       "1043  youth revolt written gustin nash july black co...  \n",
       "1044  zero dark thirty written mark boal october voi...  \n",
       "1045  written jared bush phil johnston story byron h...  \n",
       "\n",
       "[1046 rows x 6 columns]"
      ]
     },
     "execution_count": 5,
     "metadata": {},
     "output_type": "execute_result"
    }
   ],
   "source": [
    "df"
   ]
  },
  {
   "cell_type": "code",
   "execution_count": 6,
   "id": "c67c12dd",
   "metadata": {},
   "outputs": [],
   "source": [
    "age_values = {'12': 1,\n",
    "                 'PG' : 0,\n",
    "                 '15' : 2,\n",
    "                 '18' : 3}\n",
    "df['age'] = df['age_rating'].replace(age_values)"
   ]
  },
  {
   "cell_type": "markdown",
   "id": "d517857b",
   "metadata": {},
   "source": [
    "### Data Balancing"
   ]
  },
  {
   "cell_type": "code",
   "execution_count": 7,
   "id": "d25f21b4",
   "metadata": {},
   "outputs": [],
   "source": [
    "age12 = df[df['age_rating'] == '12']"
   ]
  },
  {
   "cell_type": "code",
   "execution_count": 8,
   "id": "5d098b20",
   "metadata": {},
   "outputs": [],
   "source": [
    "agePG = df[df['age_rating'] == 'PG']"
   ]
  },
  {
   "cell_type": "code",
   "execution_count": 9,
   "id": "237fb90a",
   "metadata": {},
   "outputs": [],
   "source": [
    "age15 = df[df['age_rating'] == '15']"
   ]
  },
  {
   "cell_type": "code",
   "execution_count": 10,
   "id": "865aa4f8",
   "metadata": {},
   "outputs": [],
   "source": [
    "age18 = df[df['age_rating'] == '18']"
   ]
  },
  {
   "cell_type": "code",
   "execution_count": 11,
   "id": "65316963",
   "metadata": {},
   "outputs": [
    {
     "data": {
      "text/plain": [
       "449"
      ]
     },
     "execution_count": 11,
     "metadata": {},
     "output_type": "execute_result"
    }
   ],
   "source": [
    "len(age15)"
   ]
  },
  {
   "cell_type": "code",
   "execution_count": 12,
   "id": "3d306706",
   "metadata": {},
   "outputs": [
    {
     "data": {
      "text/plain": [
       "123"
      ]
     },
     "execution_count": 12,
     "metadata": {},
     "output_type": "execute_result"
    }
   ],
   "source": [
    "len(agePG)"
   ]
  },
  {
   "cell_type": "code",
   "execution_count": 13,
   "id": "9037a4d6",
   "metadata": {},
   "outputs": [
    {
     "data": {
      "text/plain": [
       "213"
      ]
     },
     "execution_count": 13,
     "metadata": {},
     "output_type": "execute_result"
    }
   ],
   "source": [
    "len(age12)"
   ]
  },
  {
   "cell_type": "code",
   "execution_count": 14,
   "id": "59b0c218",
   "metadata": {},
   "outputs": [
    {
     "data": {
      "text/plain": [
       "261"
      ]
     },
     "execution_count": 14,
     "metadata": {},
     "output_type": "execute_result"
    }
   ],
   "source": [
    "len(age18)"
   ]
  },
  {
   "cell_type": "code",
   "execution_count": 15,
   "id": "292e7154",
   "metadata": {},
   "outputs": [],
   "source": [
    "age12_resample = resample(age12, replace = True, n_samples=449, random_state=143)\n",
    "agePG_resample = resample(agePG, replace = True, n_samples=449, random_state=143)\n",
    "age18_resample = resample(age18, replace = True, n_samples=449, random_state=143)"
   ]
  },
  {
   "cell_type": "code",
   "execution_count": 16,
   "id": "bb974049",
   "metadata": {},
   "outputs": [],
   "source": [
    "df2 = pd.concat([age15, age12_resample, agePG_resample, age18_resample ])"
   ]
  },
  {
   "cell_type": "code",
   "execution_count": 17,
   "id": "f1dcfd51",
   "metadata": {},
   "outputs": [
    {
     "name": "stdout",
     "output_type": "stream",
     "text": [
      "<class 'pandas.core.frame.DataFrame'>\n",
      "Int64Index: 1796 entries, 7 to 2\n",
      "Data columns (total 7 columns):\n",
      " #   Column        Non-Null Count  Dtype \n",
      "---  ------        --------------  ----- \n",
      " 0   title         1796 non-null   object\n",
      " 1   age_rating    1796 non-null   object\n",
      " 2   Movie_Genre   1796 non-null   object\n",
      " 3   Movie_Script  1796 non-null   object\n",
      " 4   final_text    1796 non-null   object\n",
      " 5   final_text2   1796 non-null   object\n",
      " 6   age           1796 non-null   int64 \n",
      "dtypes: int64(1), object(6)\n",
      "memory usage: 112.2+ KB\n"
     ]
    }
   ],
   "source": [
    "df2.info()"
   ]
  },
  {
   "cell_type": "code",
   "execution_count": 35,
   "id": "96b0a784",
   "metadata": {},
   "outputs": [],
   "source": [
    "one_hot = pd.get_dummies(df2['age'])"
   ]
  },
  {
   "cell_type": "code",
   "execution_count": 36,
   "id": "73102080",
   "metadata": {},
   "outputs": [
    {
     "data": {
      "text/html": [
       "<div>\n",
       "<style scoped>\n",
       "    .dataframe tbody tr th:only-of-type {\n",
       "        vertical-align: middle;\n",
       "    }\n",
       "\n",
       "    .dataframe tbody tr th {\n",
       "        vertical-align: top;\n",
       "    }\n",
       "\n",
       "    .dataframe thead th {\n",
       "        text-align: right;\n",
       "    }\n",
       "</style>\n",
       "<table border=\"1\" class=\"dataframe\">\n",
       "  <thead>\n",
       "    <tr style=\"text-align: right;\">\n",
       "      <th></th>\n",
       "      <th>0</th>\n",
       "      <th>1</th>\n",
       "      <th>2</th>\n",
       "      <th>3</th>\n",
       "    </tr>\n",
       "  </thead>\n",
       "  <tbody>\n",
       "    <tr>\n",
       "      <th>7</th>\n",
       "      <td>0</td>\n",
       "      <td>0</td>\n",
       "      <td>1</td>\n",
       "      <td>0</td>\n",
       "    </tr>\n",
       "    <tr>\n",
       "      <th>8</th>\n",
       "      <td>0</td>\n",
       "      <td>0</td>\n",
       "      <td>1</td>\n",
       "      <td>0</td>\n",
       "    </tr>\n",
       "    <tr>\n",
       "      <th>9</th>\n",
       "      <td>0</td>\n",
       "      <td>0</td>\n",
       "      <td>1</td>\n",
       "      <td>0</td>\n",
       "    </tr>\n",
       "    <tr>\n",
       "      <th>10</th>\n",
       "      <td>0</td>\n",
       "      <td>0</td>\n",
       "      <td>1</td>\n",
       "      <td>0</td>\n",
       "    </tr>\n",
       "    <tr>\n",
       "      <th>15</th>\n",
       "      <td>0</td>\n",
       "      <td>0</td>\n",
       "      <td>1</td>\n",
       "      <td>0</td>\n",
       "    </tr>\n",
       "    <tr>\n",
       "      <th>...</th>\n",
       "      <td>...</td>\n",
       "      <td>...</td>\n",
       "      <td>...</td>\n",
       "      <td>...</td>\n",
       "    </tr>\n",
       "    <tr>\n",
       "      <th>838</th>\n",
       "      <td>0</td>\n",
       "      <td>0</td>\n",
       "      <td>0</td>\n",
       "      <td>1</td>\n",
       "    </tr>\n",
       "    <tr>\n",
       "      <th>352</th>\n",
       "      <td>0</td>\n",
       "      <td>0</td>\n",
       "      <td>0</td>\n",
       "      <td>1</td>\n",
       "    </tr>\n",
       "    <tr>\n",
       "      <th>566</th>\n",
       "      <td>0</td>\n",
       "      <td>0</td>\n",
       "      <td>0</td>\n",
       "      <td>1</td>\n",
       "    </tr>\n",
       "    <tr>\n",
       "      <th>286</th>\n",
       "      <td>0</td>\n",
       "      <td>0</td>\n",
       "      <td>0</td>\n",
       "      <td>1</td>\n",
       "    </tr>\n",
       "    <tr>\n",
       "      <th>2</th>\n",
       "      <td>0</td>\n",
       "      <td>0</td>\n",
       "      <td>0</td>\n",
       "      <td>1</td>\n",
       "    </tr>\n",
       "  </tbody>\n",
       "</table>\n",
       "<p>1796 rows × 4 columns</p>\n",
       "</div>"
      ],
      "text/plain": [
       "     0  1  2  3\n",
       "7    0  0  1  0\n",
       "8    0  0  1  0\n",
       "9    0  0  1  0\n",
       "10   0  0  1  0\n",
       "15   0  0  1  0\n",
       "..  .. .. .. ..\n",
       "838  0  0  0  1\n",
       "352  0  0  0  1\n",
       "566  0  0  0  1\n",
       "286  0  0  0  1\n",
       "2    0  0  0  1\n",
       "\n",
       "[1796 rows x 4 columns]"
      ]
     },
     "execution_count": 36,
     "metadata": {},
     "output_type": "execute_result"
    }
   ],
   "source": [
    "one_hot"
   ]
  },
  {
   "cell_type": "code",
   "execution_count": 37,
   "id": "5693cd18",
   "metadata": {},
   "outputs": [],
   "source": [
    "np.save('binarized_age.npy', one_hot)"
   ]
  },
  {
   "cell_type": "markdown",
   "id": "ee3368a5",
   "metadata": {},
   "source": [
    "### Data Transformation"
   ]
  },
  {
   "cell_type": "markdown",
   "id": "27407e19",
   "metadata": {},
   "source": [
    "+ Tfidf transformation"
   ]
  },
  {
   "cell_type": "code",
   "execution_count": 18,
   "id": "51b824fa",
   "metadata": {},
   "outputs": [
    {
     "name": "stderr",
     "output_type": "stream",
     "text": [
      "C:\\Users\\ojoho\\anaconda3\\lib\\site-packages\\sklearn\\feature_extraction\\text.py:404: UserWarning: Your stop_words may be inconsistent with your preprocessing. Tokenizing the stop words generated tokens ['aren', 'can', 'couldn', 'didn', 'doesn', 'don', 'hadn', 'hasn', 'haven', 'isn', 'let', 'll', 'mustn', 're', 'shan', 'shouldn', 've', 'wasn', 'weren', 'won', 'wouldn'] not in stop_words.\n",
      "  warnings.warn(\n"
     ]
    },
    {
     "data": {
      "text/plain": [
       "(1796, 40244)"
      ]
     },
     "execution_count": 18,
     "metadata": {},
     "output_type": "execute_result"
    }
   ],
   "source": [
    "tfidf_vectorizer = TfidfVectorizer(max_df=0.95, min_df=0.005, \n",
    "                          stop_words = get_stop_words('en'))\n",
    "\n",
    "lemmatized_bow=tfidf_vectorizer.fit_transform(df2['final_text2'])\n",
    "\n",
    "#check shape of resulting matrices\n",
    "lemmatized_bow.shape"
   ]
  },
  {
   "cell_type": "code",
   "execution_count": 19,
   "id": "49f79af5",
   "metadata": {},
   "outputs": [],
   "source": [
    "#each plot is a row vector of the TFIDF sparse matrices\n",
    "df2['lemmatized_bow_plot'] = [plot for plot in lemmatized_bow]\n",
    "\n",
    "#save TFIDF matrices an numpy arrays\n",
    "np.save('lemmatized_age.npy',lemmatized_bow.toarray())"
   ]
  },
  {
   "cell_type": "markdown",
   "id": "8600f613",
   "metadata": {},
   "source": [
    "+ word2vec"
   ]
  },
  {
   "cell_type": "code",
   "execution_count": 20,
   "id": "751d7924",
   "metadata": {},
   "outputs": [],
   "source": [
    "from gensim import models"
   ]
  },
  {
   "cell_type": "code",
   "execution_count": 21,
   "id": "f23a851b",
   "metadata": {},
   "outputs": [],
   "source": [
    "#Load the pretrained google news word2vec model\n",
    "model = models.KeyedVectors.load_word2vec_format('GoogleNews-vectors-negative300.bin.gz', binary=True)"
   ]
  },
  {
   "cell_type": "code",
   "execution_count": 22,
   "id": "1b296b9e",
   "metadata": {},
   "outputs": [],
   "source": [
    "#collect words not in the Google News w2v model\n",
    "not_w2v = []\n",
    "\n",
    "#word2vec function\n",
    "def apply_words2Vec(cleaned_plot, mean=False):\n",
    "    \n",
    "    \"\"\"\n",
    "    apply_words2Vec()\n",
    "    -applies the following transformations to the cleaned plot of a movie:\n",
    "        1) removes words that are not in google's model\n",
    "        2) creates a 300-dimension vector representation of each word\n",
    "        3) outputes vector of vectors for plot\n",
    "        If mean = True\n",
    "        4) converts the resulting nd_array into a 1d_array via np.mean() and\n",
    "           outputs single vector for each plot.\n",
    "    -also keeps track of all words not found in google's model\n",
    "    \n",
    "    -inputs: cleaned_plot (string)\n",
    "    \n",
    "    -outputs: vector representation of plot\n",
    "    \n",
    "    \"\"\"\n",
    "    vecs=[]\n",
    "    for word in cleaned_plot:\n",
    "        #add word vector to list if it is in the google model\n",
    "        try:\n",
    "            vecs.append(model.get_vector(word)) \n",
    "        except:\n",
    "            #if the word is not in the w2v model, add it to\n",
    "            #our list of skipped words\n",
    "            not_w2v.append(word)\n",
    "    \n",
    "    #take the column-wise mean of vecs to reduce nd_aray to 1d_array\n",
    "    if mean == True:\n",
    "        vecs = np.mean(vecs, axis=0)\n",
    "        return vecs\n",
    "    #return matrix of w2v arrays where each row is a word in the plot\n",
    "    return np.stack(vecs)"
   ]
  },
  {
   "cell_type": "code",
   "execution_count": 23,
   "id": "18e5b6c4",
   "metadata": {},
   "outputs": [
    {
     "name": "stdout",
     "output_type": "stream",
     "text": [
      "Mean vector representations:\n",
      "(3,)\n"
     ]
    }
   ],
   "source": [
    "#apply transformation to three sets of plots and add columns to df\n",
    "\n",
    "#columns with mean w2v\n",
    "df2['w2v_plot_mean'] = df2['final_text2'].apply(lambda x: apply_words2Vec(x, mean=True))\n",
    "\n",
    "#check shapes of first movie vectors to confirm nd_array and 300-dimensions\n",
    "print('Mean vector representations:')\n",
    "print(df2.loc[0,'w2v_plot_mean'].shape)\n"
   ]
  },
  {
   "cell_type": "code",
   "execution_count": 24,
   "id": "288cf7a5",
   "metadata": {},
   "outputs": [
    {
     "name": "stdout",
     "output_type": "stream",
     "text": [
      "26252201\n",
      "['a' ' ' 'a' ' ' ' ' 'a' 'a' ' ' ' ' ' ' ' ' ' ' 'a' 'a' ' ' ' ' 'a' 'a'\n",
      " 'a' ' ' ' ' 'a' 'a' ' ' ' ' ' ' ' ' ' ' ' ' ' ' ' ' ' ' 'a' ' ' ' ' ' '\n",
      " 'a' 'a' 'a' 'a' ' ' ' ' ' ' ' ' ' ' ' ' ' ' ' ' 'a' 'a']\n"
     ]
    }
   ],
   "source": [
    "#print some of our skipped words\n",
    "print(len(not_w2v))\n",
    "np.random.seed(112)\n",
    "print(np.random.choice(not_w2v, 50, replace=False))"
   ]
  },
  {
   "cell_type": "code",
   "execution_count": 25,
   "id": "452f7a1b",
   "metadata": {},
   "outputs": [
    {
     "name": "stdout",
     "output_type": "stream",
     "text": [
      "All movies have a word2vec representation.\n"
     ]
    }
   ],
   "source": [
    "for plot in df2.w2v_plot_mean:\n",
    "    if len(plot) != 300:\n",
    "        print(\"AH! no word2vec representation\")\n",
    "print('All movies have a word2vec representation.')\n"
   ]
  },
  {
   "cell_type": "code",
   "execution_count": 26,
   "id": "52330faf",
   "metadata": {},
   "outputs": [],
   "source": [
    "#w2v mean vectors\n",
    "np.save('w2v_mean_age.npy', df2['w2v_plot_mean'].to_numpy())"
   ]
  },
  {
   "cell_type": "markdown",
   "id": "e7faec73",
   "metadata": {},
   "source": [
    "+ doc2vec"
   ]
  },
  {
   "cell_type": "code",
   "execution_count": 27,
   "id": "dd58bcaf",
   "metadata": {},
   "outputs": [
    {
     "data": {
      "text/plain": [
       "7    (holding written anthony cipriano fade neighbo...\n",
       "Name: final_text2_tag_docs, dtype: object"
      ]
     },
     "execution_count": 27,
     "metadata": {},
     "output_type": "execute_result"
    }
   ],
   "source": [
    "#turn plots into TaggedDocuments\n",
    "#apply to movies df for imdb, tmdb, and combined\n",
    "cols = ['final_text2']\n",
    "n_cols = ['final_text2_tag_docs']\n",
    "for ncol, col in zip(n_cols, cols):\n",
    "    acc = []\n",
    "    for i, plot in enumerate(df2[col]): \n",
    "        z = models.doc2vec.TaggedDocument(words=plot, tags=[str(i)])\n",
    "        acc.append(z)\n",
    "    df2[ncol] = acc\n",
    "df2['final_text2_tag_docs'][:1]"
   ]
  },
  {
   "cell_type": "code",
   "execution_count": 28,
   "id": "020de55a",
   "metadata": {},
   "outputs": [
    {
     "name": "stderr",
     "output_type": "stream",
     "text": [
      "C:\\Users\\ojoho\\AppData\\Local\\Temp/ipykernel_15984/43456829.py:7: DeprecationWarning: Call to deprecated `docvecs` (The `docvecs` property has been renamed `dv`.).\n",
      "  df2[ncol] = [model.docvecs[x] for x in range(1796)]\n"
     ]
    },
    {
     "data": {
      "text/plain": [
       "0    [-0.15048993, -0.14187676, -0.31540665, 0.1740...\n",
       "0    [-0.07431694, -0.16285771, -0.24529226, 0.1800...\n",
       "0    [-0.10177396, -0.13632007, -0.3237102, 0.07208...\n",
       "Name: final_text2_doc_vec, dtype: object"
      ]
     },
     "execution_count": 28,
     "metadata": {},
     "output_type": "execute_result"
    }
   ],
   "source": [
    "cols = ['final_text2_tag_docs']\n",
    "n_cols = ['final_text2_doc_vec']\n",
    "for ncol, col in zip(n_cols, cols):\n",
    "    model = models.doc2vec.Doc2Vec(alpha=0.025, min_alpha=0.001, vector_size=20, dm=0, window=5)\n",
    "    model.build_vocab(df2[col])\n",
    "    model.train(df2[col], total_examples=1796, epochs=4)\n",
    "    df2[ncol] = [model.docvecs[x] for x in range(1796)]\n",
    "    \n",
    "df2['final_text2_doc_vec'][0]"
   ]
  },
  {
   "cell_type": "code",
   "execution_count": 29,
   "id": "cba15a21",
   "metadata": {},
   "outputs": [],
   "source": [
    "np.save('final_text2_doc_vec_age.npy', df2['final_text2_doc_vec'].to_numpy())"
   ]
  },
  {
   "cell_type": "code",
   "execution_count": null,
   "id": "596838f6",
   "metadata": {},
   "outputs": [],
   "source": []
  },
  {
   "cell_type": "code",
   "execution_count": 31,
   "id": "374ae0ad",
   "metadata": {},
   "outputs": [
    {
     "name": "stderr",
     "output_type": "stream",
     "text": [
      "C:\\Users\\ojoho\\anaconda3\\lib\\site-packages\\seaborn\\_decorators.py:36: FutureWarning: Pass the following variable as a keyword arg: x. From version 0.12, the only valid positional argument will be `data`, and passing other arguments without an explicit keyword will result in an error or misinterpretation.\n",
      "  warnings.warn(\n"
     ]
    },
    {
     "data": {
      "text/plain": [
       "<AxesSubplot:xlabel='age_rating', ylabel='count'>"
      ]
     },
     "execution_count": 31,
     "metadata": {},
     "output_type": "execute_result"
    },
    {
     "data": {
      "image/png": "[encoded data removed]",
      "text/plain": [
       "<Figure size 432x288 with 1 Axes>"
      ]
     },
     "metadata": {
      "needs_background": "light"
     },
     "output_type": "display_data"
    }
   ],
   "source": [
    "sns.countplot(df[\"age_rating\"])"
   ]
  },
  {
   "cell_type": "code",
   "execution_count": null,
   "id": "7bf7c8c1",
   "metadata": {},
   "outputs": [],
   "source": []
  }
 ],
 "metadata": {
  "kernelspec": {
   "display_name": "Python 3 (ipykernel)",
   "language": "python",
   "name": "python3"
  },
  "language_info": {
   "codemirror_mode": {
    "name": "ipython",
    "version": 3
   },
   "file_extension": ".py",
   "mimetype": "text/x-python",
   "name": "python",
   "nbconvert_exporter": "python",
   "pygments_lexer": "ipython3",
   "version": "3.9.7"
  }
 },
 "nbformat": 4,
 "nbformat_minor": 5
}
