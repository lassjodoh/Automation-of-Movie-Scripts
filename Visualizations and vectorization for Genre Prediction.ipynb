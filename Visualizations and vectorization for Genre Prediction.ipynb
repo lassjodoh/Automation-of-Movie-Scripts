{
 "cells": [
  {
   "cell_type": "code",
   "execution_count": 1,
   "id": "df7eceba",
   "metadata": {},
   "outputs": [],
   "source": [
    "#import libraries and set seaborn styling\n",
    "%matplotlib inline\n",
    "import pandas as pd\n",
    "import matplotlib.pyplot as plt\n",
    "import seaborn as sns\n",
    "import tmdbsimple as tmdb\n",
    "import requests\n",
    "import pandas as pd\n",
    "import time\n",
    "import json\n",
    "import numpy as np\n",
    "from ast import literal_eval\n",
    "from collections import Counter\n",
    "from nltk.tokenize import RegexpTokenizer\n",
    "from stop_words import get_stop_words\n",
    "from sklearn.feature_extraction.text import CountVectorizer\n",
    "from sklearn.feature_extraction.text import TfidfTransformer\n",
    "from sklearn.feature_extraction.text import TfidfVectorizer\n",
    "from gensim import models\n",
    "sns.set_context('talk')\n",
    "sns.set_style('ticks')"
   ]
  },
  {
   "cell_type": "code",
   "execution_count": 2,
   "id": "1dadf7fd",
   "metadata": {},
   "outputs": [],
   "source": [
    "df = pd.read_csv('cleaned_dataBase.csv')"
   ]
  },
  {
   "cell_type": "code",
   "execution_count": 3,
   "id": "313e9512",
   "metadata": {},
   "outputs": [
    {
     "data": {
      "text/html": [
       "<div>\n",
       "<style scoped>\n",
       "    .dataframe tbody tr th:only-of-type {\n",
       "        vertical-align: middle;\n",
       "    }\n",
       "\n",
       "    .dataframe tbody tr th {\n",
       "        vertical-align: top;\n",
       "    }\n",
       "\n",
       "    .dataframe thead th {\n",
       "        text-align: right;\n",
       "    }\n",
       "</style>\n",
       "<table border=\"1\" class=\"dataframe\">\n",
       "  <thead>\n",
       "    <tr style=\"text-align: right;\">\n",
       "      <th></th>\n",
       "      <th>title</th>\n",
       "      <th>age_rating</th>\n",
       "      <th>Movie_Genre</th>\n",
       "      <th>Movie_Script</th>\n",
       "      <th>final_text</th>\n",
       "      <th>final_text2</th>\n",
       "    </tr>\n",
       "  </thead>\n",
       "  <tbody>\n",
       "    <tr>\n",
       "      <th>0</th>\n",
       "      <td>Reservoir Dogs</td>\n",
       "      <td>18</td>\n",
       "      <td>Action,Crime,Thriller</td>\n",
       "      <td>Quentin Tara...</td>\n",
       "      <td>Quentin Tara...</td>\n",
       "      <td>quentin tarantino october movie dedicated foll...</td>\n",
       "    </tr>\n",
       "    <tr>\n",
       "      <th>1</th>\n",
       "      <td>How to Train Your Dragon</td>\n",
       "      <td>PG</td>\n",
       "      <td>Animation,Adventure,Comedy</td>\n",
       "      <td>HOW TO TRAIN YO...</td>\n",
       "      <td>HOW TRAIN YOUR ...</td>\n",
       "      <td>train dragon written dean deblois chris sander...</td>\n",
       "    </tr>\n",
       "    <tr>\n",
       "      <th>2</th>\n",
       "      <td>Scream</td>\n",
       "      <td>18</td>\n",
       "      <td>Horror,Mystery,Thriller</td>\n",
       "      <td>...</td>\n",
       "      <td>...</td>\n",
       "      <td>scream scary movie kevin williamson rewrite ju...</td>\n",
       "    </tr>\n",
       "    <tr>\n",
       "      <th>3</th>\n",
       "      <td>Groundhog Day</td>\n",
       "      <td>PG</td>\n",
       "      <td>Comedy,Fantasy,Romance</td>\n",
       "      <td>GROUNDH...</td>\n",
       "      <td>GROUNDH...</td>\n",
       "      <td>groundhog written danny rubin second revision ...</td>\n",
       "    </tr>\n",
       "    <tr>\n",
       "      <th>4</th>\n",
       "      <td>Black Panther</td>\n",
       "      <td>12</td>\n",
       "      <td>Action,Adventure,Sci-Fi</td>\n",
       "      <td>BLACK PANTHER  ...</td>\n",
       "      <td>BLACK PANTHER  ...</td>\n",
       "      <td>black panther written ryan coogler joe robert ...</td>\n",
       "    </tr>\n",
       "    <tr>\n",
       "      <th>...</th>\n",
       "      <td>...</td>\n",
       "      <td>...</td>\n",
       "      <td>...</td>\n",
       "      <td>...</td>\n",
       "      <td>...</td>\n",
       "      <td>...</td>\n",
       "    </tr>\n",
       "    <tr>\n",
       "      <th>1041</th>\n",
       "      <td>You Can Count On Me</td>\n",
       "      <td>15</td>\n",
       "      <td>Drama</td>\n",
       "      <td>\"YOU CAN COU...</td>\n",
       "      <td>YOU CAN COUN...</td>\n",
       "      <td>count screenplay kenneth lonergan shooting dra...</td>\n",
       "    </tr>\n",
       "    <tr>\n",
       "      <th>1042</th>\n",
       "      <td>You've Got Mail</td>\n",
       "      <td>PG</td>\n",
       "      <td>Comedy,Romance</td>\n",
       "      <td>You've Got Mail    \\t\\t\\tYou've Got Mail  \\t...</td>\n",
       "      <td>You have Got Mail    \\t\\t\\tYou have Got Mail...</td>\n",
       "      <td>got mail got mail nora ephron delia ephron bas...</td>\n",
       "    </tr>\n",
       "    <tr>\n",
       "      <th>1043</th>\n",
       "      <td>Youth in Revolt</td>\n",
       "      <td>15</td>\n",
       "      <td>Comedy,Drama,Romance</td>\n",
       "      <td>...</td>\n",
       "      <td>...</td>\n",
       "      <td>youth revolt written gustin nash july black co...</td>\n",
       "    </tr>\n",
       "    <tr>\n",
       "      <th>1044</th>\n",
       "      <td>Zero Dark Thirty</td>\n",
       "      <td>15</td>\n",
       "      <td>Drama,Thriller</td>\n",
       "      <td>ZERO DARK...</td>\n",
       "      <td>ZERO DARK...</td>\n",
       "      <td>zero dark thirty written mark boal october voi...</td>\n",
       "    </tr>\n",
       "    <tr>\n",
       "      <th>1045</th>\n",
       "      <td>Zootopia</td>\n",
       "      <td>PG</td>\n",
       "      <td>Animation,Adventure,Comedy</td>\n",
       "      <td>ZOOTOPIA      ...</td>\n",
       "      <td>...</td>\n",
       "      <td>written jared bush phil johnston story byron h...</td>\n",
       "    </tr>\n",
       "  </tbody>\n",
       "</table>\n",
       "<p>1046 rows × 6 columns</p>\n",
       "</div>"
      ],
      "text/plain": [
       "                         title age_rating                 Movie_Genre  \\\n",
       "0               Reservoir Dogs         18       Action,Crime,Thriller   \n",
       "1     How to Train Your Dragon         PG  Animation,Adventure,Comedy   \n",
       "2                       Scream         18     Horror,Mystery,Thriller   \n",
       "3                Groundhog Day         PG      Comedy,Fantasy,Romance   \n",
       "4                Black Panther         12     Action,Adventure,Sci-Fi   \n",
       "...                        ...        ...                         ...   \n",
       "1041       You Can Count On Me         15                       Drama   \n",
       "1042           You've Got Mail         PG              Comedy,Romance   \n",
       "1043           Youth in Revolt         15        Comedy,Drama,Romance   \n",
       "1044          Zero Dark Thirty         15              Drama,Thriller   \n",
       "1045                  Zootopia         PG  Animation,Adventure,Comedy   \n",
       "\n",
       "                                           Movie_Script  \\\n",
       "0                                       Quentin Tara...   \n",
       "1                                    HOW TO TRAIN YO...   \n",
       "2                                                   ...   \n",
       "3                                            GROUNDH...   \n",
       "4                                    BLACK PANTHER  ...   \n",
       "...                                                 ...   \n",
       "1041                                    \"YOU CAN COU...   \n",
       "1042    You've Got Mail    \\t\\t\\tYou've Got Mail  \\t...   \n",
       "1043                                                ...   \n",
       "1044                                       ZERO DARK...   \n",
       "1045                                  ZOOTOPIA      ...   \n",
       "\n",
       "                                             final_text  \\\n",
       "0                                       Quentin Tara...   \n",
       "1                                    HOW TRAIN YOUR ...   \n",
       "2                                                   ...   \n",
       "3                                            GROUNDH...   \n",
       "4                                    BLACK PANTHER  ...   \n",
       "...                                                 ...   \n",
       "1041                                    YOU CAN COUN...   \n",
       "1042    You have Got Mail    \\t\\t\\tYou have Got Mail...   \n",
       "1043                                                ...   \n",
       "1044                                       ZERO DARK...   \n",
       "1045                                                ...   \n",
       "\n",
       "                                            final_text2  \n",
       "0     quentin tarantino october movie dedicated foll...  \n",
       "1     train dragon written dean deblois chris sander...  \n",
       "2     scream scary movie kevin williamson rewrite ju...  \n",
       "3     groundhog written danny rubin second revision ...  \n",
       "4     black panther written ryan coogler joe robert ...  \n",
       "...                                                 ...  \n",
       "1041  count screenplay kenneth lonergan shooting dra...  \n",
       "1042  got mail got mail nora ephron delia ephron bas...  \n",
       "1043  youth revolt written gustin nash july black co...  \n",
       "1044  zero dark thirty written mark boal october voi...  \n",
       "1045  written jared bush phil johnston story byron h...  \n",
       "\n",
       "[1046 rows x 6 columns]"
      ]
     },
     "execution_count": 3,
     "metadata": {},
     "output_type": "execute_result"
    }
   ],
   "source": [
    "df"
   ]
  },
  {
   "cell_type": "code",
   "execution_count": 6,
   "id": "3bad9ab5",
   "metadata": {},
   "outputs": [
    {
     "name": "stderr",
     "output_type": "stream",
     "text": [
      "C:\\Users\\ojoho\\anaconda3\\lib\\site-packages\\seaborn\\_decorators.py:36: FutureWarning: Pass the following variable as a keyword arg: x. From version 0.12, the only valid positional argument will be `data`, and passing other arguments without an explicit keyword will result in an error or misinterpretation.\n",
      "  warnings.warn(\n"
     ]
    },
    {
     "data": {
      "image/png": "[encoded data removed]",
      "text/plain": [
       "<Figure size 432x288 with 1 Axes>"
      ]
     },
     "metadata": {},
     "output_type": "display_data"
    }
   ],
   "source": [
    "sns.countplot(df.age_rating)\n",
    "plt.title('Age Rating of scripts')\n",
    "plt.xlabel('Age')\n",
    "plt.ylabel('count of the age rating')\n",
    "sns.despine()"
   ]
  },
  {
   "cell_type": "code",
   "execution_count": 4,
   "id": "dbbf8d56",
   "metadata": {},
   "outputs": [],
   "source": [
    "# Breaks \"Genre\" into the constituting individual genres\n",
    "def find_genres(genre):\n",
    "    \n",
    "    start = 0\n",
    "    set_of_genre = []\n",
    "    for i in range(len(genre)):\n",
    "        \n",
    "        k=0\n",
    "        substring = \"\"\n",
    "        if (genre[i]==','):\n",
    "            substring = genre[start:i]\n",
    "            start = i+1\n",
    "            k = 1\n",
    "        \n",
    "        if(i==len(genre)-1):\n",
    "            substring = genre[start:i+1]\n",
    "            k = 1\n",
    "            \n",
    "        if (k==1):\n",
    "            set_of_genre.append(substring)         \n",
    "    \n",
    "    return (set_of_genre)"
   ]
  },
  {
   "cell_type": "code",
   "execution_count": 5,
   "id": "078b5428",
   "metadata": {},
   "outputs": [
    {
     "name": "stdout",
     "output_type": "stream",
     "text": [
      "Number of unique genres: 20\n",
      "Unique genres are: ['Action' 'Adventure' 'Animation' 'Biography' 'Comedy' 'Crime' 'Drama'\n",
      " 'Family' 'Fantasy' 'Film-Noir' 'History' 'Horror' 'Music' 'Mystery'\n",
      " 'Romance' 'Sci-Fi' 'Sport' 'Thriller' 'War' 'Western']\n"
     ]
    }
   ],
   "source": [
    "#list of genre for each movie\n",
    "all_genre = []\n",
    "Genre_list = df['Movie_Genre']\n",
    "\n",
    "for i in range (len(Genre_list)):\n",
    "    \n",
    "    set_of_genre = find_genres(Genre_list[i])\n",
    "    \n",
    "    for j in range (len(set_of_genre)):\n",
    "        all_genre.append(set_of_genre[j])\n",
    "        \n",
    "uniq, counts = np.unique(all_genre, return_counts=True)\n",
    "print(\"Number of unique genres:\", len(uniq))\n",
    "print(\"Unique genres are:\", uniq)\n",
    "id_to_genre = dict(zip(counts, uniq))"
   ]
  },
  {
   "cell_type": "code",
   "execution_count": 69,
   "id": "fc0345c1",
   "metadata": {},
   "outputs": [],
   "source": [
    "genre_counts = list(zip(counts, uniq))"
   ]
  },
  {
   "cell_type": "code",
   "execution_count": 70,
   "id": "224213dd",
   "metadata": {},
   "outputs": [
    {
     "data": {
      "text/plain": [
       "[(263, 'Action'),\n",
       " (152, 'Adventure'),\n",
       " (38, 'Animation'),\n",
       " (3, 'Biography'),\n",
       " (352, 'Comedy'),\n",
       " (208, 'Crime'),\n",
       " (590, 'Drama'),\n",
       " (36, 'Family'),\n",
       " (92, 'Fantasy'),\n",
       " (4, 'Film-Noir'),\n",
       " (3, 'History'),\n",
       " (137, 'Horror'),\n",
       " (28, 'Music'),\n",
       " (105, 'Mystery'),\n",
       " (190, 'Romance'),\n",
       " (139, 'Sci-Fi'),\n",
       " (2, 'Sport'),\n",
       " (356, 'Thriller'),\n",
       " (28, 'War'),\n",
       " (14, 'Western')]"
      ]
     },
     "execution_count": 70,
     "metadata": {},
     "output_type": "execute_result"
    }
   ],
   "source": [
    "genre_counts"
   ]
  },
  {
   "cell_type": "code",
   "execution_count": 77,
   "id": "c06c7d09",
   "metadata": {},
   "outputs": [
    {
     "data": {
      "image/png": "[encoded data removed]",
      "text/plain": [
       "<Figure size 432x288 with 1 Axes>"
      ]
     },
     "metadata": {},
     "output_type": "display_data"
    }
   ],
   "source": [
    "def valuelabel(x,y):\n",
    "    for i in range(len(x)):\n",
    "        plt.text(i,y[i],y[i], ha = 'center',\n",
    "                 bbox = dict(facecolor = 'white', alpha =0.8))\n",
    "for i in genre_counts:\n",
    "    plt.bar(height = int(i[0]), x = i[1], color='r')\n",
    "    plt.xticks(rotation=90)\n",
    "    plt.title('Movie Genre Count')\n",
    "    plt.ylabel('Count')\n",
    "    plt.xlabel('Genre')\n",
    "    sns.despine()"
   ]
  },
  {
   "cell_type": "code",
   "execution_count": 6,
   "id": "ee2bfd0a",
   "metadata": {},
   "outputs": [
    {
     "data": {
      "text/plain": [
       "{263: 'Action',\n",
       " 152: 'Adventure',\n",
       " 38: 'Animation',\n",
       " 3: 'History',\n",
       " 352: 'Comedy',\n",
       " 208: 'Crime',\n",
       " 590: 'Drama',\n",
       " 36: 'Family',\n",
       " 92: 'Fantasy',\n",
       " 4: 'Film-Noir',\n",
       " 137: 'Horror',\n",
       " 28: 'War',\n",
       " 105: 'Mystery',\n",
       " 190: 'Romance',\n",
       " 139: 'Sci-Fi',\n",
       " 2: 'Sport',\n",
       " 356: 'Thriller',\n",
       " 14: 'Western'}"
      ]
     },
     "execution_count": 6,
     "metadata": {},
     "output_type": "execute_result"
    }
   ],
   "source": [
    "id_to_genre = {int(key):value for key, value in id_to_genre.items()} #convert string keys to int keys\n",
    "id_to_genre"
   ]
  },
  {
   "cell_type": "markdown",
   "id": "5cd4c202",
   "metadata": {},
   "source": [
    "## Distribution of plot lengths in movies"
   ]
  },
  {
   "cell_type": "code",
   "execution_count": 47,
   "id": "3e6b86bc",
   "metadata": {},
   "outputs": [
    {
     "data": {
      "image/png": "[encoded data removed]",
      "text/plain": [
       "<Figure size 432x288 with 1 Axes>"
      ]
     },
     "metadata": {},
     "output_type": "display_data"
    }
   ],
   "source": [
    "#tmdb lengths\n",
    "plot_lengths = []\n",
    "for plot in df.final_text2:\n",
    "    plot_length = len(plot.split())\n",
    "    plot_lengths.append(plot_length)\n",
    "    \n",
    "#plot tmdb lengths\n",
    "bins = np.linspace(0, 500, 30)\n",
    "plt.hist(plot_lengths, bins = 10, alpha = 0.8, label = 'Movie length')\n",
    "plt.xlabel('Plot Length (words)')\n",
    "plt.ylabel('Count')\n",
    "plt.title('Distribution of Movie Plot Lengths')\n",
    "#plt.legend(loc='upper right')\n",
    "sns.despine();"
   ]
  },
  {
   "cell_type": "code",
   "execution_count": 9,
   "id": "68c2d3ce",
   "metadata": {},
   "outputs": [],
   "source": [
    "def split_genres(values):\n",
    "    splitted = values.split(',')\n",
    "    return splitted"
   ]
  },
  {
   "cell_type": "code",
   "execution_count": 10,
   "id": "6f26f602",
   "metadata": {},
   "outputs": [],
   "source": [
    "df['splitted_genres'] = df['Movie_Genre'].apply(lambda x: split_genres(x))"
   ]
  },
  {
   "cell_type": "code",
   "execution_count": 12,
   "id": "01e27bf4",
   "metadata": {},
   "outputs": [
    {
     "name": "stdout",
     "output_type": "stream",
     "text": [
      "Average TMDB Genres: 2.6195028680688335\n"
     ]
    },
    {
     "data": {
      "image/png": "[encoded data removed]",
      "text/plain": [
       "<Figure size 432x288 with 1 Axes>"
      ]
     },
     "metadata": {},
     "output_type": "display_data"
    }
   ],
   "source": [
    "#count number of genres per movie\n",
    "num_genres_per_movie = [len(genres) for genres in df.splitted_genres]\n",
    "\n",
    "#collect counts and plot for both imdb and tmdb\n",
    "num_genre_counts = Counter(num_genres_per_movie)\n",
    "genre_counts_df = pd.DataFrame.from_dict(num_genre_counts, orient='index')\n",
    "genre_counts_df = genre_counts_df.sort_index()\n",
    "genre_counts_df.plot(kind='bar', legend=False)\n",
    "plt.title('Genres per Movie')\n",
    "plt.xlabel('Genres Labels per Movie')\n",
    "plt.ylabel('Count')\n",
    "sns.despine()\n",
    "\n",
    "print('Average Movie Genres:', np.mean(num_genres_per_movie))"
   ]
  },
  {
   "cell_type": "code",
   "execution_count": 13,
   "id": "18a4d413",
   "metadata": {},
   "outputs": [
    {
     "name": "stdout",
     "output_type": "stream",
     "text": [
      "Shortest and longest plots (words):\n",
      "Movie:  1 , 25080\n",
      "Mean plot length: 10372.981835564053\n"
     ]
    }
   ],
   "source": [
    "print('Shortest and longest plots (words):')\n",
    "print('Movie: ', min(plot_lengths),',', max(plot_lengths))\n",
    "print('Mean plot length:', np.mean(plot_lengths))"
   ]
  },
  {
   "cell_type": "code",
   "execution_count": 14,
   "id": "28d90136",
   "metadata": {},
   "outputs": [
    {
     "name": "stderr",
     "output_type": "stream",
     "text": [
      "/home/676220/.conda/envs/jupyter/lib/python3.10/site-packages/seaborn/_decorators.py:36: FutureWarning: Pass the following variables as keyword args: x, y. From version 0.12, the only valid positional argument will be `data`, and passing other arguments without an explicit keyword will result in an error or misinterpretation.\n",
      "  warnings.warn(\n"
     ]
    },
    {
     "data": {
      "image/png": "[encoded data removed]",
      "text/plain": [
       "<Figure size 432x288 with 1 Axes>"
      ]
     },
     "metadata": {},
     "output_type": "display_data"
    }
   ],
   "source": [
    "sns.boxplot(num_genres_per_movie, plot_lengths)\n",
    "plt.title('Plot Lengths vs. Number of Genres per Movie')\n",
    "plt.xlabel('Genres per Movie')\n",
    "plt.ylabel('Plot Length (words)')\n",
    "sns.despine()"
   ]
  },
  {
   "cell_type": "markdown",
   "id": "1ae66c46",
   "metadata": {},
   "source": [
    "---\n",
    "### Apply TFIDF to Plots\n",
    "\n",
    "Sklearn's TfidfVectorizer will apply both a count vectorizer and Term Frequency Inverse Document Frequency (TFIDF) transformation to our plots. The count vectorizer will convert our collection of plots into a matrix of word counts. We set max_df and min_df to ignore words specific to our corpus of movie plots that occur both a lot and few times, and we also ignore english stop words if the previous arguments missed some. The TFIDF transformation will essentially apply a rarity score to each word returning a normalized TFIDF matrix for each feature - plots."
   ]
  },
  {
   "cell_type": "code",
   "execution_count": 15,
   "id": "a52c4853",
   "metadata": {},
   "outputs": [
    {
     "name": "stderr",
     "output_type": "stream",
     "text": [
      "/home/676220/.conda/envs/jupyter/lib/python3.10/site-packages/sklearn/feature_extraction/text.py:404: UserWarning: Your stop_words may be inconsistent with your preprocessing. Tokenizing the stop words generated tokens ['aren', 'can', 'couldn', 'didn', 'doesn', 'don', 'hadn', 'hasn', 'haven', 'isn', 'let', 'll', 'mustn', 're', 'shan', 'shouldn', 've', 'wasn', 'weren', 'won', 'wouldn'] not in stop_words.\n",
      "  warnings.warn(\n"
     ]
    },
    {
     "data": {
      "text/plain": [
       "(1046, 37673)"
      ]
     },
     "execution_count": 15,
     "metadata": {},
     "output_type": "execute_result"
    }
   ],
   "source": [
    "tfidf_vectorizer = TfidfVectorizer(max_df=0.95, min_df=0.005, \n",
    "                          stop_words = get_stop_words('en'))\n",
    "\n",
    "lemmatized_bow=tfidf_vectorizer.fit_transform(df['final_text2'])\n",
    "\n",
    "#check shape of resulting matrices\n",
    "lemmatized_bow.shape"
   ]
  },
  {
   "cell_type": "markdown",
   "id": "3762a4da",
   "metadata": {},
   "source": [
    "As seen above, movies are represented by a 37673 length array respectively. Each number in the array is the associated TFIDF score for the count vectorized representation of each plot. Most of the array values will be zero respectively.\n",
    "\n",
    "---\n",
    "\n",
    "### Add Bag-of-Words Matrices to Movies DF and save\n",
    "\n",
    "We cast the resulting arrays into lists that pandas can save in a nice fashion for when we import in the modeling and analysis notebook. We also save them as numpy arrays for easier importing."
   ]
  },
  {
   "cell_type": "code",
   "execution_count": 16,
   "id": "e67862b8",
   "metadata": {},
   "outputs": [],
   "source": [
    "#each plot is a row vector of the TFIDF sparse matrices\n",
    "df['lemmatized_bow_plot'] = [plot for plot in lemmatized_bow]\n",
    "\n",
    "#resave movies csv\n",
    "df.to_csv('movies.csv', encoding=\"utf-8\", index=False)\n",
    "\n",
    "#save TFIDF matrices an numpy arrays\n",
    "np.save('lemmatized_bow.npy',lemmatized_bow.toarray())"
   ]
  },
  {
   "cell_type": "markdown",
   "id": "b170935c",
   "metadata": {},
   "source": [
    "### We have now transformed and saved each plot as a bag-of-words TFIDF representation.\n",
    "---\n",
    "# Word2vec transformation of our movie plots\n",
    "---\n"
   ]
  },
  {
   "cell_type": "markdown",
   "id": "7db8d11e",
   "metadata": {},
   "source": [
    "---\n",
    "#### Apply word2vec Transformation of Plots\n",
    "\n",
    "For this transformation we will use the Google News pretrained word2vec model ([link](https://drive.google.com/file/d/0B7XkCwpI5KDYNlNUTTlSS21pQmM/edit?usp=sharing)) that was trained on a more than 3 billion word corpus. It contains 3 million words, each represented by a 300-dimension vector. We make a couple of design choices for how we transform our movie plots:\n",
    "\n",
    "- If a word in the cleaned plots (lowered, punctuation and stop word dropped, tokenized) is in the word2vec model, add it to a running list for that plot.\n",
    "- If a word is not in the word2vec model, skip it. We print some of these words below for example.\n",
    "- We then take two different representations for each plot. One as a matrix where each row is a 300-dimension representation of a particular word in the plot, and a column-wise mean vector, where each plot is reduced to 1x300 dimension array.\n",
    "\n",
    "The assumption we make by taking the mean of each plot is that the resulting 300-dimension vector will point in the direction of one or more genres, but we acknowledge that it will most likely reduce some of the semantic value of certain words.\n"
   ]
  },
  {
   "cell_type": "code",
   "execution_count": 17,
   "id": "893faab5",
   "metadata": {},
   "outputs": [],
   "source": [
    "#Load the pretrained google news word2vec model\n",
    "model = models.KeyedVectors.load_word2vec_format('GoogleNews-vectors-negative300.bin.gz', binary=True)"
   ]
  },
  {
   "cell_type": "code",
   "execution_count": 18,
   "id": "09eb382e",
   "metadata": {},
   "outputs": [],
   "source": [
    "#collect words not in the Google News w2v model\n",
    "not_w2v = []\n",
    "\n",
    "#word2vec function\n",
    "def apply_words2Vec(cleaned_plot, mean=False):\n",
    "    \n",
    "    \"\"\"\n",
    "    apply_words2Vec()\n",
    "    -applies the following transformations to the cleaned plot of a movie:\n",
    "        1) removes words that are not in google's model\n",
    "        2) creates a 300-dimension vector representation of each word\n",
    "        3) outputes vector of vectors for plot\n",
    "        If mean = True\n",
    "        4) converts the resulting nd_array into a 1d_array via np.mean() and\n",
    "           outputs single vector for each plot.\n",
    "    -also keeps track of all words not found in google's model\n",
    "    \n",
    "    -inputs: cleaned_plot (string)\n",
    "    \n",
    "    -outputs: vector representation of plot\n",
    "    \n",
    "    \"\"\"\n",
    "    vecs=[]\n",
    "    for word in cleaned_plot:\n",
    "        #add word vector to list if it is in the google model\n",
    "        try:\n",
    "            vecs.append(model.get_vector(word)) \n",
    "        except:\n",
    "            #if the word is not in the w2v model, add it to\n",
    "            #our list of skipped words\n",
    "            not_w2v.append(word)\n",
    "    \n",
    "    #take the column-wise mean of vecs to reduce nd_aray to 1d_array\n",
    "    if mean == True:\n",
    "        vecs = np.mean(vecs, axis=0)\n",
    "        return vecs\n",
    "    #return matrix of w2v arrays where each row is a word in the plot\n",
    "    return np.stack(vecs)"
   ]
  },
  {
   "cell_type": "code",
   "execution_count": 19,
   "id": "82538f1d",
   "metadata": {},
   "outputs": [
    {
     "name": "stdout",
     "output_type": "stream",
     "text": [
      "Mean vector representations:\n",
      "(300,)\n"
     ]
    }
   ],
   "source": [
    "#apply transformation to three sets of plots and add columns to df\n",
    "\n",
    "#columns with mean w2v\n",
    "df['w2v_plot_mean'] = df['final_text2'].apply(lambda x: apply_words2Vec(x, mean=True))\n",
    "\n",
    "#check shapes of first movie vectors to confirm nd_array and 300-dimensions\n",
    "print('Mean vector representations:')\n",
    "print(df.loc[0,'w2v_plot_mean'].shape)\n"
   ]
  },
  {
   "cell_type": "markdown",
   "id": "551a7c42",
   "metadata": {},
   "source": [
    "Each script has been transformed into a 300-dimension representation of that plot, as well as an matrix where each row represents a word in the plot. We will use these features as predictors in our multi-lable classification modeling."
   ]
  },
  {
   "cell_type": "code",
   "execution_count": 20,
   "id": "706cceb9",
   "metadata": {},
   "outputs": [
    {
     "name": "stdout",
     "output_type": "stream",
     "text": [
      "15461466\n",
      "['a' ' ' ' ' ' ' ' ' ' ' 'a' ' ' ' ' ' ' ' ' 'a' ' ' ' ' ' ' ' ' ' ' 'a'\n",
      " ' ' 'a' ' ' ' ' 'a' 'a' ' ' ' ' ' ' 'a' ' ' 'a' 'a' ' ' 'a' 'a' ' ' ' '\n",
      " 'a' 'a' ' ' ' ' ' ' ' ' ' ' ' ' 'a' ' ' ' ' 'a' ' ' ' ']\n"
     ]
    }
   ],
   "source": [
    "#print some of our skipped words\n",
    "print(len(not_w2v))\n",
    "np.random.seed(112)\n",
    "print(np.random.choice(not_w2v, 50, replace=False))"
   ]
  },
  {
   "cell_type": "code",
   "execution_count": 21,
   "id": "ddcba723",
   "metadata": {},
   "outputs": [
    {
     "name": "stdout",
     "output_type": "stream",
     "text": [
      "All movies have a word2vec representation.\n"
     ]
    }
   ],
   "source": [
    "for plot in df.w2v_plot_mean:\n",
    "    if len(plot) != 300:\n",
    "        print(\"AH! no word2vec representation\")\n",
    "print('All movies have a word2vec representation.')\n"
   ]
  },
  {
   "cell_type": "markdown",
   "id": "5329888f",
   "metadata": {},
   "source": [
    "---\n",
    "**Save w2v data as a numpy arrays/matrices for further modeling and analysis**"
   ]
  },
  {
   "cell_type": "code",
   "execution_count": 22,
   "id": "217ab16c",
   "metadata": {},
   "outputs": [],
   "source": [
    "#w2v mean vectors\n",
    "np.save('w2v_mean.npy', df['w2v_plot_mean'].to_numpy())\n"
   ]
  },
  {
   "cell_type": "markdown",
   "id": "3a63904f",
   "metadata": {},
   "source": [
    "---\n",
    "#### Update and save DataFrame for future analysis"
   ]
  },
  {
   "cell_type": "code",
   "execution_count": 23,
   "id": "481ed23d",
   "metadata": {},
   "outputs": [],
   "source": [
    "df.to_csv('movies.csv', encoding=\"utf-8\", index=False)"
   ]
  },
  {
   "cell_type": "markdown",
   "id": "e772f98a",
   "metadata": {},
   "source": [
    "### We have now transformed and saved each script as a 300-dimension vector and n_words x 300 dimension matrix word2vec representation.\n",
    "---\n",
    "# Doc2Vec transformation of our movie scripts\n"
   ]
  },
  {
   "cell_type": "markdown",
   "id": "bfa734ad",
   "metadata": {},
   "source": [
    "#### Transform Plots into TaggedDocument objects\n",
    "\n",
    "In order to use gensim's Doc2Vec model, we must first transform each plot into a TaggedDocument object."
   ]
  },
  {
   "cell_type": "code",
   "execution_count": 24,
   "id": "a261043d",
   "metadata": {},
   "outputs": [
    {
     "data": {
      "text/plain": [
       "0    (quentin tarantino october movie dedicated fol...\n",
       "Name: final_text2_tag_docs, dtype: object"
      ]
     },
     "execution_count": 24,
     "metadata": {},
     "output_type": "execute_result"
    }
   ],
   "source": [
    "#turn plots into TaggedDocuments\n",
    "#apply to movies df for imdb, tmdb, and combined\n",
    "cols = ['final_text2']\n",
    "n_cols = ['final_text2_tag_docs']\n",
    "for ncol, col in zip(n_cols, cols):\n",
    "    acc = []\n",
    "    for i, plot in enumerate(df[col]): \n",
    "        z = models.doc2vec.TaggedDocument(words=plot, tags=[str(i)])\n",
    "        acc.append(z)\n",
    "    df[ncol] = acc\n",
    "df['final_text2_tag_docs'][:1]"
   ]
  },
  {
   "cell_type": "markdown",
   "id": "5ab834f5",
   "metadata": {},
   "source": [
    "#### Train Doc2Vec models \n",
    "\n",
    "Next we train Doc2Vec models on each set of plots. We selected a vector size of 20, because there are 20 possible genres. Since we are only concerned with document vectors we set dm=0, so that the model does not get word vectors as well and training goes faster. Finally, because we are using a relatively small dataset we set epochs=20 so that our models don't overfit."
   ]
  },
  {
   "cell_type": "code",
   "execution_count": 25,
   "id": "d093ee8b",
   "metadata": {},
   "outputs": [
    {
     "name": "stderr",
     "output_type": "stream",
     "text": [
      "/tmp/ipykernel_12029/2209652003.py:7: DeprecationWarning: Call to deprecated `docvecs` (The `docvecs` property has been renamed `dv`.).\n",
      "  df[ncol] = [model.docvecs[x] for x in range(1046)]\n"
     ]
    },
    {
     "data": {
      "text/plain": [
       "array([ 0.03617398, -0.59795517, -0.18874198,  0.18629728, -0.03990475,\n",
       "       -0.3327708 , -0.07588181, -0.14957233, -0.11348549, -0.07526778,\n",
       "        0.12269644,  0.28732917,  0.04281153,  0.06973169,  0.08831201,\n",
       "        0.10064102,  0.00767008,  0.10423903, -0.26633754, -0.00774563],\n",
       "      dtype=float32)"
      ]
     },
     "execution_count": 25,
     "metadata": {},
     "output_type": "execute_result"
    }
   ],
   "source": [
    "cols = ['final_text2_tag_docs']\n",
    "n_cols = ['final_text2_doc_vec']\n",
    "for ncol, col in zip(n_cols, cols):\n",
    "    model = models.doc2vec.Doc2Vec(alpha=0.025, min_alpha=0.001, vector_size=20, dm=0, window=5)\n",
    "    model.build_vocab(df[col])\n",
    "    model.train(df[col], total_examples=1046, epochs=20)\n",
    "    df[ncol] = [model.docvecs[x] for x in range(1046)]\n",
    "    \n",
    "df['final_text2_doc_vec'][0]"
   ]
  },
  {
   "cell_type": "markdown",
   "id": "c52d053d",
   "metadata": {},
   "source": [
    "Now each plot is represented by a (1,20) vector, so we save these."
   ]
  },
  {
   "cell_type": "code",
   "execution_count": 26,
   "id": "5898bf76",
   "metadata": {},
   "outputs": [],
   "source": [
    "np.save('final_text2_doc_vec.npy', df['final_text2_doc_vec'].to_numpy())"
   ]
  },
  {
   "cell_type": "code",
   "execution_count": 27,
   "id": "8680575a",
   "metadata": {},
   "outputs": [
    {
     "data": {
      "text/html": [
       "<div>\n",
       "<style scoped>\n",
       "    .dataframe tbody tr th:only-of-type {\n",
       "        vertical-align: middle;\n",
       "    }\n",
       "\n",
       "    .dataframe tbody tr th {\n",
       "        vertical-align: top;\n",
       "    }\n",
       "\n",
       "    .dataframe thead th {\n",
       "        text-align: right;\n",
       "    }\n",
       "</style>\n",
       "<table border=\"1\" class=\"dataframe\">\n",
       "  <thead>\n",
       "    <tr style=\"text-align: right;\">\n",
       "      <th></th>\n",
       "      <th>title</th>\n",
       "      <th>age_rating</th>\n",
       "      <th>Movie_Genre</th>\n",
       "      <th>Movie_Script</th>\n",
       "      <th>final_text</th>\n",
       "      <th>final_text2</th>\n",
       "      <th>splitted_genres</th>\n",
       "      <th>lemmatized_bow_plot</th>\n",
       "      <th>w2v_plot_mean</th>\n",
       "      <th>final_text2_tag_docs</th>\n",
       "      <th>final_text2_doc_vec</th>\n",
       "    </tr>\n",
       "  </thead>\n",
       "  <tbody>\n",
       "    <tr>\n",
       "      <th>0</th>\n",
       "      <td>Reservoir Dogs</td>\n",
       "      <td>18</td>\n",
       "      <td>Action,Crime,Thriller</td>\n",
       "      <td>Quentin Tara...</td>\n",
       "      <td>Quentin Tara...</td>\n",
       "      <td>quentin tarantino october movie dedicated foll...</td>\n",
       "      <td>[Action, Crime, Thriller]</td>\n",
       "      <td>(0, 2274)\\t0.004028333577020339\\n  (0, 6065)...</td>\n",
       "      <td>[-0.17329833, 0.10741242, 0.003158559, 0.14356...</td>\n",
       "      <td>(quentin tarantino october movie dedicated fol...</td>\n",
       "      <td>[0.036173984, -0.59795517, -0.18874198, 0.1862...</td>\n",
       "    </tr>\n",
       "    <tr>\n",
       "      <th>1</th>\n",
       "      <td>How to Train Your Dragon</td>\n",
       "      <td>PG</td>\n",
       "      <td>Animation,Adventure,Comedy</td>\n",
       "      <td>HOW TO TRAIN YO...</td>\n",
       "      <td>HOW TRAIN YOUR ...</td>\n",
       "      <td>train dragon written dean deblois chris sander...</td>\n",
       "      <td>[Animation, Adventure, Comedy]</td>\n",
       "      <td>(0, 36785)\\t0.000801220424554652\\n  (0, 2136...</td>\n",
       "      <td>[-0.17948367, 0.11807792, 0.00061120617, 0.138...</td>\n",
       "      <td>(train dragon written dean deblois chris sande...</td>\n",
       "      <td>[0.20166238, -0.096167915, -0.064272255, -0.11...</td>\n",
       "    </tr>\n",
       "    <tr>\n",
       "      <th>2</th>\n",
       "      <td>Scream</td>\n",
       "      <td>18</td>\n",
       "      <td>Horror,Mystery,Thriller</td>\n",
       "      <td>...</td>\n",
       "      <td>...</td>\n",
       "      <td>scream scary movie kevin williamson rewrite ju...</td>\n",
       "      <td>[Horror, Mystery, Thriller]</td>\n",
       "      <td>(0, 34011)\\t0.004051747528794127\\n  (0, 2713...</td>\n",
       "      <td>[-0.17613457, 0.11569605, 0.0013841288, 0.1403...</td>\n",
       "      <td>(scream scary movie kevin williamson rewrite j...</td>\n",
       "      <td>[0.20066816, -0.3281479, 0.027115317, 0.186074...</td>\n",
       "    </tr>\n",
       "    <tr>\n",
       "      <th>3</th>\n",
       "      <td>Groundhog Day</td>\n",
       "      <td>PG</td>\n",
       "      <td>Comedy,Fantasy,Romance</td>\n",
       "      <td>GROUNDH...</td>\n",
       "      <td>GROUNDH...</td>\n",
       "      <td>groundhog written danny rubin second revision ...</td>\n",
       "      <td>[Comedy, Fantasy, Romance]</td>\n",
       "      <td>(0, 7260)\\t0.004501376415498538\\n  (0, 30456...</td>\n",
       "      <td>[-0.17665856, 0.11156767, -0.00057527487, 0.14...</td>\n",
       "      <td>(groundhog written danny rubin second revision...</td>\n",
       "      <td>[-0.052015994, -0.30212227, -0.07259407, 0.171...</td>\n",
       "    </tr>\n",
       "    <tr>\n",
       "      <th>4</th>\n",
       "      <td>Black Panther</td>\n",
       "      <td>12</td>\n",
       "      <td>Action,Adventure,Sci-Fi</td>\n",
       "      <td>BLACK PANTHER  ...</td>\n",
       "      <td>BLACK PANTHER  ...</td>\n",
       "      <td>black panther written ryan coogler joe robert ...</td>\n",
       "      <td>[Action, Adventure, Sci-Fi]</td>\n",
       "      <td>(0, 2385)\\t0.00700146683628221\\n  (0, 29114)...</td>\n",
       "      <td>[-0.17583425, 0.11159041, 0.00093200465, 0.142...</td>\n",
       "      <td>(black panther written ryan coogler joe robert...</td>\n",
       "      <td>[0.22511983, -0.24465646, -0.14246406, 0.16651...</td>\n",
       "    </tr>\n",
       "    <tr>\n",
       "      <th>...</th>\n",
       "      <td>...</td>\n",
       "      <td>...</td>\n",
       "      <td>...</td>\n",
       "      <td>...</td>\n",
       "      <td>...</td>\n",
       "      <td>...</td>\n",
       "      <td>...</td>\n",
       "      <td>...</td>\n",
       "      <td>...</td>\n",
       "      <td>...</td>\n",
       "      <td>...</td>\n",
       "    </tr>\n",
       "    <tr>\n",
       "      <th>1041</th>\n",
       "      <td>You Can Count On Me</td>\n",
       "      <td>15</td>\n",
       "      <td>Drama</td>\n",
       "      <td>\"YOU CAN COU...</td>\n",
       "      <td>YOU CAN COUN...</td>\n",
       "      <td>count screenplay kenneth lonergan shooting dra...</td>\n",
       "      <td>[Drama]</td>\n",
       "      <td>(0, 25248)\\t0.01709537058760785\\n  (0, 18348...</td>\n",
       "      <td>[-0.17328008, 0.11223773, -0.0038208088, 0.140...</td>\n",
       "      <td>(count screenplay kenneth lonergan shooting dr...</td>\n",
       "      <td>[-0.07136779, -0.3847483, 0.1581235, 0.0993573...</td>\n",
       "    </tr>\n",
       "    <tr>\n",
       "      <th>1042</th>\n",
       "      <td>You've Got Mail</td>\n",
       "      <td>PG</td>\n",
       "      <td>Comedy,Romance</td>\n",
       "      <td>You've Got Mail    \\t\\t\\tYou've Got Mail  \\t...</td>\n",
       "      <td>You have Got Mail    \\t\\t\\tYou have Got Mail...</td>\n",
       "      <td>got mail got mail nora ephron delia ephron bas...</td>\n",
       "      <td>[Comedy, Romance]</td>\n",
       "      <td>(0, 15575)\\t0.012400957367064\\n  (0, 20195)\\...</td>\n",
       "      <td>[-0.1728267, 0.11165822, -0.002811314, 0.14136...</td>\n",
       "      <td>(got mail got mail nora ephron delia ephron ba...</td>\n",
       "      <td>[-0.24790123, -0.25568238, -0.19426906, 0.1134...</td>\n",
       "    </tr>\n",
       "    <tr>\n",
       "      <th>1043</th>\n",
       "      <td>Youth in Revolt</td>\n",
       "      <td>15</td>\n",
       "      <td>Comedy,Drama,Romance</td>\n",
       "      <td>...</td>\n",
       "      <td>...</td>\n",
       "      <td>youth revolt written gustin nash july black co...</td>\n",
       "      <td>[Comedy, Drama, Romance]</td>\n",
       "      <td>(0, 19132)\\t0.012286615910346094\\n  (0, 2077...</td>\n",
       "      <td>[-0.17626648, 0.11581809, -0.0018269443, 0.140...</td>\n",
       "      <td>(youth revolt written gustin nash july black c...</td>\n",
       "      <td>[0.07141014, -0.18429676, 0.05500198, 0.221052...</td>\n",
       "    </tr>\n",
       "    <tr>\n",
       "      <th>1044</th>\n",
       "      <td>Zero Dark Thirty</td>\n",
       "      <td>15</td>\n",
       "      <td>Drama,Thriller</td>\n",
       "      <td>ZERO DARK...</td>\n",
       "      <td>ZERO DARK...</td>\n",
       "      <td>zero dark thirty written mark boal october voi...</td>\n",
       "      <td>[Drama, Thriller]</td>\n",
       "      <td>(0, 35177)\\t0.009642029032394079\\n  (0, 1132...</td>\n",
       "      <td>[-0.17518224, 0.11266811, -0.0005036399, 0.142...</td>\n",
       "      <td>(zero dark thirty written mark boal october vo...</td>\n",
       "      <td>[0.08029097, -0.26506498, -0.0984526, 0.055697...</td>\n",
       "    </tr>\n",
       "    <tr>\n",
       "      <th>1045</th>\n",
       "      <td>Zootopia</td>\n",
       "      <td>PG</td>\n",
       "      <td>Animation,Adventure,Comedy</td>\n",
       "      <td>ZOOTOPIA      ...</td>\n",
       "      <td>...</td>\n",
       "      <td>written jared bush phil johnston story byron h...</td>\n",
       "      <td>[Animation, Adventure, Comedy]</td>\n",
       "      <td>(0, 36078)\\t0.022887215098543506\\n  (0, 1709...</td>\n",
       "      <td>[-0.17611781, 0.113234416, -6.638451e-05, 0.14...</td>\n",
       "      <td>(written jared bush phil johnston story byron ...</td>\n",
       "      <td>[-0.06407927, -0.37493837, -0.039114628, 0.230...</td>\n",
       "    </tr>\n",
       "  </tbody>\n",
       "</table>\n",
       "<p>1046 rows × 11 columns</p>\n",
       "</div>"
      ],
      "text/plain": [
       "                         title age_rating                 Movie_Genre  \\\n",
       "0               Reservoir Dogs         18       Action,Crime,Thriller   \n",
       "1     How to Train Your Dragon         PG  Animation,Adventure,Comedy   \n",
       "2                       Scream         18     Horror,Mystery,Thriller   \n",
       "3                Groundhog Day         PG      Comedy,Fantasy,Romance   \n",
       "4                Black Panther         12     Action,Adventure,Sci-Fi   \n",
       "...                        ...        ...                         ...   \n",
       "1041       You Can Count On Me         15                       Drama   \n",
       "1042           You've Got Mail         PG              Comedy,Romance   \n",
       "1043           Youth in Revolt         15        Comedy,Drama,Romance   \n",
       "1044          Zero Dark Thirty         15              Drama,Thriller   \n",
       "1045                  Zootopia         PG  Animation,Adventure,Comedy   \n",
       "\n",
       "                                           Movie_Script  \\\n",
       "0                                       Quentin Tara...   \n",
       "1                                    HOW TO TRAIN YO...   \n",
       "2                                                   ...   \n",
       "3                                            GROUNDH...   \n",
       "4                                    BLACK PANTHER  ...   \n",
       "...                                                 ...   \n",
       "1041                                    \"YOU CAN COU...   \n",
       "1042    You've Got Mail    \\t\\t\\tYou've Got Mail  \\t...   \n",
       "1043                                                ...   \n",
       "1044                                       ZERO DARK...   \n",
       "1045                                  ZOOTOPIA      ...   \n",
       "\n",
       "                                             final_text  \\\n",
       "0                                       Quentin Tara...   \n",
       "1                                    HOW TRAIN YOUR ...   \n",
       "2                                                   ...   \n",
       "3                                            GROUNDH...   \n",
       "4                                    BLACK PANTHER  ...   \n",
       "...                                                 ...   \n",
       "1041                                    YOU CAN COUN...   \n",
       "1042    You have Got Mail    \\t\\t\\tYou have Got Mail...   \n",
       "1043                                                ...   \n",
       "1044                                       ZERO DARK...   \n",
       "1045                                                ...   \n",
       "\n",
       "                                            final_text2  \\\n",
       "0     quentin tarantino october movie dedicated foll...   \n",
       "1     train dragon written dean deblois chris sander...   \n",
       "2     scream scary movie kevin williamson rewrite ju...   \n",
       "3     groundhog written danny rubin second revision ...   \n",
       "4     black panther written ryan coogler joe robert ...   \n",
       "...                                                 ...   \n",
       "1041  count screenplay kenneth lonergan shooting dra...   \n",
       "1042  got mail got mail nora ephron delia ephron bas...   \n",
       "1043  youth revolt written gustin nash july black co...   \n",
       "1044  zero dark thirty written mark boal october voi...   \n",
       "1045  written jared bush phil johnston story byron h...   \n",
       "\n",
       "                     splitted_genres  \\\n",
       "0          [Action, Crime, Thriller]   \n",
       "1     [Animation, Adventure, Comedy]   \n",
       "2        [Horror, Mystery, Thriller]   \n",
       "3         [Comedy, Fantasy, Romance]   \n",
       "4        [Action, Adventure, Sci-Fi]   \n",
       "...                              ...   \n",
       "1041                         [Drama]   \n",
       "1042               [Comedy, Romance]   \n",
       "1043        [Comedy, Drama, Romance]   \n",
       "1044               [Drama, Thriller]   \n",
       "1045  [Animation, Adventure, Comedy]   \n",
       "\n",
       "                                    lemmatized_bow_plot  \\\n",
       "0       (0, 2274)\\t0.004028333577020339\\n  (0, 6065)...   \n",
       "1       (0, 36785)\\t0.000801220424554652\\n  (0, 2136...   \n",
       "2       (0, 34011)\\t0.004051747528794127\\n  (0, 2713...   \n",
       "3       (0, 7260)\\t0.004501376415498538\\n  (0, 30456...   \n",
       "4       (0, 2385)\\t0.00700146683628221\\n  (0, 29114)...   \n",
       "...                                                 ...   \n",
       "1041    (0, 25248)\\t0.01709537058760785\\n  (0, 18348...   \n",
       "1042    (0, 15575)\\t0.012400957367064\\n  (0, 20195)\\...   \n",
       "1043    (0, 19132)\\t0.012286615910346094\\n  (0, 2077...   \n",
       "1044    (0, 35177)\\t0.009642029032394079\\n  (0, 1132...   \n",
       "1045    (0, 36078)\\t0.022887215098543506\\n  (0, 1709...   \n",
       "\n",
       "                                          w2v_plot_mean  \\\n",
       "0     [-0.17329833, 0.10741242, 0.003158559, 0.14356...   \n",
       "1     [-0.17948367, 0.11807792, 0.00061120617, 0.138...   \n",
       "2     [-0.17613457, 0.11569605, 0.0013841288, 0.1403...   \n",
       "3     [-0.17665856, 0.11156767, -0.00057527487, 0.14...   \n",
       "4     [-0.17583425, 0.11159041, 0.00093200465, 0.142...   \n",
       "...                                                 ...   \n",
       "1041  [-0.17328008, 0.11223773, -0.0038208088, 0.140...   \n",
       "1042  [-0.1728267, 0.11165822, -0.002811314, 0.14136...   \n",
       "1043  [-0.17626648, 0.11581809, -0.0018269443, 0.140...   \n",
       "1044  [-0.17518224, 0.11266811, -0.0005036399, 0.142...   \n",
       "1045  [-0.17611781, 0.113234416, -6.638451e-05, 0.14...   \n",
       "\n",
       "                                   final_text2_tag_docs  \\\n",
       "0     (quentin tarantino october movie dedicated fol...   \n",
       "1     (train dragon written dean deblois chris sande...   \n",
       "2     (scream scary movie kevin williamson rewrite j...   \n",
       "3     (groundhog written danny rubin second revision...   \n",
       "4     (black panther written ryan coogler joe robert...   \n",
       "...                                                 ...   \n",
       "1041  (count screenplay kenneth lonergan shooting dr...   \n",
       "1042  (got mail got mail nora ephron delia ephron ba...   \n",
       "1043  (youth revolt written gustin nash july black c...   \n",
       "1044  (zero dark thirty written mark boal october vo...   \n",
       "1045  (written jared bush phil johnston story byron ...   \n",
       "\n",
       "                                    final_text2_doc_vec  \n",
       "0     [0.036173984, -0.59795517, -0.18874198, 0.1862...  \n",
       "1     [0.20166238, -0.096167915, -0.064272255, -0.11...  \n",
       "2     [0.20066816, -0.3281479, 0.027115317, 0.186074...  \n",
       "3     [-0.052015994, -0.30212227, -0.07259407, 0.171...  \n",
       "4     [0.22511983, -0.24465646, -0.14246406, 0.16651...  \n",
       "...                                                 ...  \n",
       "1041  [-0.07136779, -0.3847483, 0.1581235, 0.0993573...  \n",
       "1042  [-0.24790123, -0.25568238, -0.19426906, 0.1134...  \n",
       "1043  [0.07141014, -0.18429676, 0.05500198, 0.221052...  \n",
       "1044  [0.08029097, -0.26506498, -0.0984526, 0.055697...  \n",
       "1045  [-0.06407927, -0.37493837, -0.039114628, 0.230...  \n",
       "\n",
       "[1046 rows x 11 columns]"
      ]
     },
     "execution_count": 27,
     "metadata": {},
     "output_type": "execute_result"
    }
   ],
   "source": [
    "df"
   ]
  },
  {
   "cell_type": "code",
   "execution_count": 28,
   "id": "500b8b0c",
   "metadata": {},
   "outputs": [],
   "source": [
    "df.to_csv('final_movies.csv', encoding=\"utf-8\", index=False)"
   ]
  },
  {
   "cell_type": "code",
   "execution_count": null,
   "id": "ea3c3aa0",
   "metadata": {},
   "outputs": [],
   "source": []
  },
  {
   "cell_type": "code",
   "execution_count": 29,
   "id": "e5d5d61d",
   "metadata": {},
   "outputs": [
    {
     "name": "stderr",
     "output_type": "stream",
     "text": [
      "[nltk_data] Downloading package stopwords to /home/676220/nltk_data...\n",
      "[nltk_data]   Package stopwords is already up-to-date!\n",
      "[nltk_data] Downloading package punkt to /home/676220/nltk_data...\n",
      "[nltk_data]   Package punkt is already up-to-date!\n"
     ]
    },
    {
     "data": {
      "text/plain": [
       "True"
      ]
     },
     "execution_count": 29,
     "metadata": {},
     "output_type": "execute_result"
    }
   ],
   "source": [
    "from sklearn.preprocessing import MultiLabelBinarizer\n",
    "import nltk\n",
    "import re\n",
    "from nltk.corpus import stopwords\n",
    "\n",
    "nltk.download('stopwords')\n",
    "\n",
    "from nltk.tokenize import word_tokenize\n",
    "\n",
    "nltk.download('punkt')"
   ]
  },
  {
   "cell_type": "code",
   "execution_count": 53,
   "id": "55ee8972",
   "metadata": {},
   "outputs": [],
   "source": [
    "mlb=MultiLabelBinarizer()"
   ]
  },
  {
   "cell_type": "markdown",
   "id": "e7f66ce0",
   "metadata": {},
   "source": [
    "MultiLabelBinarizer converts the corresponding categorical variables into a numpy array. Pandas behaves strangely when reading csv's that contain numpy arrays, so we will instead save the numpy arrays as .npy files."
   ]
  },
  {
   "cell_type": "code",
   "execution_count": 56,
   "id": "bd30c4ff",
   "metadata": {},
   "outputs": [],
   "source": [
    "def genre_tokenization(text):\n",
    "    text = re.sub(',', ' ', text)\n",
    "    text = word_tokenize(text)\n",
    "    return text"
   ]
  },
  {
   "cell_type": "code",
   "execution_count": 57,
   "id": "8642741b",
   "metadata": {},
   "outputs": [],
   "source": [
    "df['Movie_Genre'] = df['Movie_Genre'].apply(lambda x : genre_tokenization(x))"
   ]
  },
  {
   "cell_type": "code",
   "execution_count": 58,
   "id": "bb9083d8",
   "metadata": {},
   "outputs": [],
   "source": [
    "y = df['Movie_Genre']"
   ]
  },
  {
   "cell_type": "code",
   "execution_count": 59,
   "id": "0b44bf16",
   "metadata": {},
   "outputs": [],
   "source": [
    "new_data = pd.DataFrame(mlb.fit_transform(y))"
   ]
  },
  {
   "cell_type": "code",
   "execution_count": 60,
   "id": "089d89d4",
   "metadata": {},
   "outputs": [],
   "source": [
    "new_data.columns = mlb.classes_ "
   ]
  },
  {
   "cell_type": "code",
   "execution_count": 61,
   "id": "76a81eed",
   "metadata": {},
   "outputs": [],
   "source": [
    "np.save('binarized_data.npy', new_data)"
   ]
  },
  {
   "cell_type": "code",
   "execution_count": 62,
   "id": "59ca1913",
   "metadata": {},
   "outputs": [
    {
     "data": {
      "text/html": [
       "<div>\n",
       "<style scoped>\n",
       "    .dataframe tbody tr th:only-of-type {\n",
       "        vertical-align: middle;\n",
       "    }\n",
       "\n",
       "    .dataframe tbody tr th {\n",
       "        vertical-align: top;\n",
       "    }\n",
       "\n",
       "    .dataframe thead th {\n",
       "        text-align: right;\n",
       "    }\n",
       "</style>\n",
       "<table border=\"1\" class=\"dataframe\">\n",
       "  <thead>\n",
       "    <tr style=\"text-align: right;\">\n",
       "      <th></th>\n",
       "      <th>Action</th>\n",
       "      <th>Adventure</th>\n",
       "      <th>Animation</th>\n",
       "      <th>Biography</th>\n",
       "      <th>Comedy</th>\n",
       "      <th>Crime</th>\n",
       "      <th>Drama</th>\n",
       "      <th>Family</th>\n",
       "      <th>Fantasy</th>\n",
       "      <th>Film-Noir</th>\n",
       "      <th>History</th>\n",
       "      <th>Horror</th>\n",
       "      <th>Music</th>\n",
       "      <th>Mystery</th>\n",
       "      <th>Romance</th>\n",
       "      <th>Sci-Fi</th>\n",
       "      <th>Sport</th>\n",
       "      <th>Thriller</th>\n",
       "      <th>War</th>\n",
       "      <th>Western</th>\n",
       "    </tr>\n",
       "  </thead>\n",
       "  <tbody>\n",
       "    <tr>\n",
       "      <th>0</th>\n",
       "      <td>1</td>\n",
       "      <td>0</td>\n",
       "      <td>0</td>\n",
       "      <td>0</td>\n",
       "      <td>0</td>\n",
       "      <td>1</td>\n",
       "      <td>0</td>\n",
       "      <td>0</td>\n",
       "      <td>0</td>\n",
       "      <td>0</td>\n",
       "      <td>0</td>\n",
       "      <td>0</td>\n",
       "      <td>0</td>\n",
       "      <td>0</td>\n",
       "      <td>0</td>\n",
       "      <td>0</td>\n",
       "      <td>0</td>\n",
       "      <td>1</td>\n",
       "      <td>0</td>\n",
       "      <td>0</td>\n",
       "    </tr>\n",
       "    <tr>\n",
       "      <th>1</th>\n",
       "      <td>0</td>\n",
       "      <td>1</td>\n",
       "      <td>1</td>\n",
       "      <td>0</td>\n",
       "      <td>1</td>\n",
       "      <td>0</td>\n",
       "      <td>0</td>\n",
       "      <td>0</td>\n",
       "      <td>0</td>\n",
       "      <td>0</td>\n",
       "      <td>0</td>\n",
       "      <td>0</td>\n",
       "      <td>0</td>\n",
       "      <td>0</td>\n",
       "      <td>0</td>\n",
       "      <td>0</td>\n",
       "      <td>0</td>\n",
       "      <td>0</td>\n",
       "      <td>0</td>\n",
       "      <td>0</td>\n",
       "    </tr>\n",
       "    <tr>\n",
       "      <th>2</th>\n",
       "      <td>0</td>\n",
       "      <td>0</td>\n",
       "      <td>0</td>\n",
       "      <td>0</td>\n",
       "      <td>0</td>\n",
       "      <td>0</td>\n",
       "      <td>0</td>\n",
       "      <td>0</td>\n",
       "      <td>0</td>\n",
       "      <td>0</td>\n",
       "      <td>0</td>\n",
       "      <td>1</td>\n",
       "      <td>0</td>\n",
       "      <td>1</td>\n",
       "      <td>0</td>\n",
       "      <td>0</td>\n",
       "      <td>0</td>\n",
       "      <td>1</td>\n",
       "      <td>0</td>\n",
       "      <td>0</td>\n",
       "    </tr>\n",
       "    <tr>\n",
       "      <th>3</th>\n",
       "      <td>0</td>\n",
       "      <td>0</td>\n",
       "      <td>0</td>\n",
       "      <td>0</td>\n",
       "      <td>1</td>\n",
       "      <td>0</td>\n",
       "      <td>0</td>\n",
       "      <td>0</td>\n",
       "      <td>1</td>\n",
       "      <td>0</td>\n",
       "      <td>0</td>\n",
       "      <td>0</td>\n",
       "      <td>0</td>\n",
       "      <td>0</td>\n",
       "      <td>1</td>\n",
       "      <td>0</td>\n",
       "      <td>0</td>\n",
       "      <td>0</td>\n",
       "      <td>0</td>\n",
       "      <td>0</td>\n",
       "    </tr>\n",
       "    <tr>\n",
       "      <th>4</th>\n",
       "      <td>1</td>\n",
       "      <td>1</td>\n",
       "      <td>0</td>\n",
       "      <td>0</td>\n",
       "      <td>0</td>\n",
       "      <td>0</td>\n",
       "      <td>0</td>\n",
       "      <td>0</td>\n",
       "      <td>0</td>\n",
       "      <td>0</td>\n",
       "      <td>0</td>\n",
       "      <td>0</td>\n",
       "      <td>0</td>\n",
       "      <td>0</td>\n",
       "      <td>0</td>\n",
       "      <td>1</td>\n",
       "      <td>0</td>\n",
       "      <td>0</td>\n",
       "      <td>0</td>\n",
       "      <td>0</td>\n",
       "    </tr>\n",
       "    <tr>\n",
       "      <th>...</th>\n",
       "      <td>...</td>\n",
       "      <td>...</td>\n",
       "      <td>...</td>\n",
       "      <td>...</td>\n",
       "      <td>...</td>\n",
       "      <td>...</td>\n",
       "      <td>...</td>\n",
       "      <td>...</td>\n",
       "      <td>...</td>\n",
       "      <td>...</td>\n",
       "      <td>...</td>\n",
       "      <td>...</td>\n",
       "      <td>...</td>\n",
       "      <td>...</td>\n",
       "      <td>...</td>\n",
       "      <td>...</td>\n",
       "      <td>...</td>\n",
       "      <td>...</td>\n",
       "      <td>...</td>\n",
       "      <td>...</td>\n",
       "    </tr>\n",
       "    <tr>\n",
       "      <th>1041</th>\n",
       "      <td>0</td>\n",
       "      <td>0</td>\n",
       "      <td>0</td>\n",
       "      <td>0</td>\n",
       "      <td>0</td>\n",
       "      <td>0</td>\n",
       "      <td>1</td>\n",
       "      <td>0</td>\n",
       "      <td>0</td>\n",
       "      <td>0</td>\n",
       "      <td>0</td>\n",
       "      <td>0</td>\n",
       "      <td>0</td>\n",
       "      <td>0</td>\n",
       "      <td>0</td>\n",
       "      <td>0</td>\n",
       "      <td>0</td>\n",
       "      <td>0</td>\n",
       "      <td>0</td>\n",
       "      <td>0</td>\n",
       "    </tr>\n",
       "    <tr>\n",
       "      <th>1042</th>\n",
       "      <td>0</td>\n",
       "      <td>0</td>\n",
       "      <td>0</td>\n",
       "      <td>0</td>\n",
       "      <td>1</td>\n",
       "      <td>0</td>\n",
       "      <td>0</td>\n",
       "      <td>0</td>\n",
       "      <td>0</td>\n",
       "      <td>0</td>\n",
       "      <td>0</td>\n",
       "      <td>0</td>\n",
       "      <td>0</td>\n",
       "      <td>0</td>\n",
       "      <td>1</td>\n",
       "      <td>0</td>\n",
       "      <td>0</td>\n",
       "      <td>0</td>\n",
       "      <td>0</td>\n",
       "      <td>0</td>\n",
       "    </tr>\n",
       "    <tr>\n",
       "      <th>1043</th>\n",
       "      <td>0</td>\n",
       "      <td>0</td>\n",
       "      <td>0</td>\n",
       "      <td>0</td>\n",
       "      <td>1</td>\n",
       "      <td>0</td>\n",
       "      <td>1</td>\n",
       "      <td>0</td>\n",
       "      <td>0</td>\n",
       "      <td>0</td>\n",
       "      <td>0</td>\n",
       "      <td>0</td>\n",
       "      <td>0</td>\n",
       "      <td>0</td>\n",
       "      <td>1</td>\n",
       "      <td>0</td>\n",
       "      <td>0</td>\n",
       "      <td>0</td>\n",
       "      <td>0</td>\n",
       "      <td>0</td>\n",
       "    </tr>\n",
       "    <tr>\n",
       "      <th>1044</th>\n",
       "      <td>0</td>\n",
       "      <td>0</td>\n",
       "      <td>0</td>\n",
       "      <td>0</td>\n",
       "      <td>0</td>\n",
       "      <td>0</td>\n",
       "      <td>1</td>\n",
       "      <td>0</td>\n",
       "      <td>0</td>\n",
       "      <td>0</td>\n",
       "      <td>0</td>\n",
       "      <td>0</td>\n",
       "      <td>0</td>\n",
       "      <td>0</td>\n",
       "      <td>0</td>\n",
       "      <td>0</td>\n",
       "      <td>0</td>\n",
       "      <td>1</td>\n",
       "      <td>0</td>\n",
       "      <td>0</td>\n",
       "    </tr>\n",
       "    <tr>\n",
       "      <th>1045</th>\n",
       "      <td>0</td>\n",
       "      <td>1</td>\n",
       "      <td>1</td>\n",
       "      <td>0</td>\n",
       "      <td>1</td>\n",
       "      <td>0</td>\n",
       "      <td>0</td>\n",
       "      <td>0</td>\n",
       "      <td>0</td>\n",
       "      <td>0</td>\n",
       "      <td>0</td>\n",
       "      <td>0</td>\n",
       "      <td>0</td>\n",
       "      <td>0</td>\n",
       "      <td>0</td>\n",
       "      <td>0</td>\n",
       "      <td>0</td>\n",
       "      <td>0</td>\n",
       "      <td>0</td>\n",
       "      <td>0</td>\n",
       "    </tr>\n",
       "  </tbody>\n",
       "</table>\n",
       "<p>1046 rows × 20 columns</p>\n",
       "</div>"
      ],
      "text/plain": [
       "      Action  Adventure  Animation  Biography  Comedy  Crime  Drama  Family  \\\n",
       "0          1          0          0          0       0      1      0       0   \n",
       "1          0          1          1          0       1      0      0       0   \n",
       "2          0          0          0          0       0      0      0       0   \n",
       "3          0          0          0          0       1      0      0       0   \n",
       "4          1          1          0          0       0      0      0       0   \n",
       "...      ...        ...        ...        ...     ...    ...    ...     ...   \n",
       "1041       0          0          0          0       0      0      1       0   \n",
       "1042       0          0          0          0       1      0      0       0   \n",
       "1043       0          0          0          0       1      0      1       0   \n",
       "1044       0          0          0          0       0      0      1       0   \n",
       "1045       0          1          1          0       1      0      0       0   \n",
       "\n",
       "      Fantasy  Film-Noir  History  Horror  Music  Mystery  Romance  Sci-Fi  \\\n",
       "0           0          0        0       0      0        0        0       0   \n",
       "1           0          0        0       0      0        0        0       0   \n",
       "2           0          0        0       1      0        1        0       0   \n",
       "3           1          0        0       0      0        0        1       0   \n",
       "4           0          0        0       0      0        0        0       1   \n",
       "...       ...        ...      ...     ...    ...      ...      ...     ...   \n",
       "1041        0          0        0       0      0        0        0       0   \n",
       "1042        0          0        0       0      0        0        1       0   \n",
       "1043        0          0        0       0      0        0        1       0   \n",
       "1044        0          0        0       0      0        0        0       0   \n",
       "1045        0          0        0       0      0        0        0       0   \n",
       "\n",
       "      Sport  Thriller  War  Western  \n",
       "0         0         1    0        0  \n",
       "1         0         0    0        0  \n",
       "2         0         1    0        0  \n",
       "3         0         0    0        0  \n",
       "4         0         0    0        0  \n",
       "...     ...       ...  ...      ...  \n",
       "1041      0         0    0        0  \n",
       "1042      0         0    0        0  \n",
       "1043      0         0    0        0  \n",
       "1044      0         1    0        0  \n",
       "1045      0         0    0        0  \n",
       "\n",
       "[1046 rows x 20 columns]"
      ]
     },
     "execution_count": 62,
     "metadata": {},
     "output_type": "execute_result"
    }
   ],
   "source": [
    "new_data"
   ]
  },
  {
   "cell_type": "code",
   "execution_count": 63,
   "id": "2f512fa9",
   "metadata": {},
   "outputs": [
    {
     "data": {
      "text/plain": [
       "array(['Action', 'Adventure', 'Animation', 'Biography', 'Comedy', 'Crime',\n",
       "       'Drama', 'Family', 'Fantasy', 'Film-Noir', 'History', 'Horror',\n",
       "       'Music', 'Mystery', 'Romance', 'Sci-Fi', 'Sport', 'Thriller',\n",
       "       'War', 'Western'], dtype=object)"
      ]
     },
     "execution_count": 63,
     "metadata": {},
     "output_type": "execute_result"
    }
   ],
   "source": [
    "mlb.classes_ "
   ]
  },
  {
   "cell_type": "code",
   "execution_count": 64,
   "id": "825a76a6",
   "metadata": {},
   "outputs": [],
   "source": [
    "target_names = {}\n",
    "movies_target_names = []\n",
    "for genre_id in mlb.classes_:\n",
    "    movies_target_names.append(genre_id)\n",
    "\n",
    "    \n",
    "target_names['movies'] = target_names\n",
    "\n"
   ]
  },
  {
   "cell_type": "code",
   "execution_count": 42,
   "id": "38f4d468",
   "metadata": {},
   "outputs": [
    {
     "data": {
      "text/plain": [
       "['Action',\n",
       " 'Adventure',\n",
       " 'Animation',\n",
       " 'Biography',\n",
       " 'Comedy',\n",
       " 'Crime',\n",
       " 'Drama',\n",
       " 'Family',\n",
       " 'Fantasy',\n",
       " 'Film-Noir',\n",
       " 'History',\n",
       " 'Horror',\n",
       " 'Music',\n",
       " 'Mystery',\n",
       " 'Romance',\n",
       " 'Sci-Fi',\n",
       " 'Sport',\n",
       " 'Thriller',\n",
       " 'War',\n",
       " 'Western']"
      ]
     },
     "execution_count": 42,
     "metadata": {},
     "output_type": "execute_result"
    }
   ],
   "source": [
    "movies_target_names"
   ]
  },
  {
   "cell_type": "code",
   "execution_count": 43,
   "id": "6c1ed418",
   "metadata": {},
   "outputs": [],
   "source": [
    "with open('target_names.json', 'w') as fp:\n",
    "    json.dump(movies_target_names, fp)"
   ]
  },
  {
   "cell_type": "code",
   "execution_count": null,
   "id": "b392b8f0",
   "metadata": {},
   "outputs": [],
   "source": []
  }
 ],
 "metadata": {
  "kernelspec": {
   "display_name": "Python 3 (ipykernel)",
   "language": "python",
   "name": "python3"
  },
  "language_info": {
   "codemirror_mode": {
    "name": "ipython",
    "version": 3
   },
   "file_extension": ".py",
   "mimetype": "text/x-python",
   "name": "python",
   "nbconvert_exporter": "python",
   "pygments_lexer": "ipython3",
   "version": "3.9.7"
  }
 },
 "nbformat": 4,
 "nbformat_minor": 5
}
